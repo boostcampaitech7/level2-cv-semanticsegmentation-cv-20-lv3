{
 "cells": [
  {
   "cell_type": "code",
   "execution_count": 10,
   "id": "14722d5e",
   "metadata": {},
   "outputs": [],
   "source": [
    "import os\n",
    "\n",
    "import json\n",
    "import pandas as pd\n",
    "import numpy as np\n",
    "from tqdm import tqdm\n",
    "from glob import glob\n",
    "\n",
    "import matplotlib.pyplot as plt\n",
    "import seaborn as sns\n",
    "import matplotlib\n",
    "\n",
    "from shapely.geometry import Polygon\n",
    "from shapely.geometry import Polygon\n",
    "from rasterio.features import geometry_mask\n",
    "from rasterio.transform import from_origin"
   ]
  },
  {
   "cell_type": "code",
   "execution_count": null,
   "id": "4dcb2505",
   "metadata": {},
   "outputs": [],
   "source": [
    "# !pip install seaborn\n",
    "# !pip install shapely\n",
    "# !pip install rasterio"
   ]
  },
  {
   "cell_type": "code",
   "execution_count": 11,
   "id": "2d626362",
   "metadata": {},
   "outputs": [],
   "source": [
    "def calculate_area(points):\n",
    "    return Polygon(points).area"
   ]
  },
  {
   "cell_type": "markdown",
   "id": "3949d0b3",
   "metadata": {},
   "source": [
    "# Data load"
   ]
  },
  {
   "cell_type": "code",
   "execution_count": 13,
   "id": "59ddf200",
   "metadata": {},
   "outputs": [],
   "source": [
    "id_list = [f'ID{i:03}' for i in range(1, 549)]\n",
    "json_dir = '/data/ephemeral/home/data/train/outputs_json/'\n",
    "IDs = [os.path.join(json_dir, name) for name in os.listdir(json_dir) if os.path.isdir(os.path.join(json_dir, name))]"
   ]
  },
  {
   "cell_type": "code",
   "execution_count": 14,
   "id": "4bb49859",
   "metadata": {},
   "outputs": [],
   "source": [
    "data = []\n",
    "for idx in IDs:\n",
    "    json_files = [f for f in os.listdir(idx) if f.endswith('.json')]\n",
    "    for file in json_files:\n",
    "        with open(os.path.join(idx, file), 'r') as f:\n",
    "            json_data = json.load(f)\n",
    "            data.append(json_data)\n",
    "\n",
    "df = pd.DataFrame(data)\n"
   ]
  },
  {
   "cell_type": "code",
   "execution_count": 15,
   "id": "28ef69d3",
   "metadata": {},
   "outputs": [],
   "source": [
    "ann = pd.DataFrame()\n",
    "\n",
    "for i in range(0,len(df)):\n",
    "    tmp_ann = pd.DataFrame(df['annotations'][i]).sort_values('label')\n",
    "    if (i % 2) == 0:\n",
    "        tmp_ann['R/L'] = \"R\"\n",
    "    else:\n",
    "        tmp_ann['R/L'] = \"L\"\n",
    "    ann = pd.concat([ann, tmp_ann])"
   ]
  },
  {
   "cell_type": "code",
   "execution_count": 16,
   "id": "1df327df",
   "metadata": {},
   "outputs": [],
   "source": [
    "a = []\n",
    "for i in range(len(IDs)):\n",
    "    a.extend([IDs[i][-3:]] * 58)"
   ]
  },
  {
   "cell_type": "code",
   "execution_count": null,
   "id": "51310d97",
   "metadata": {},
   "outputs": [],
   "source": [
    "IDs[1]"
   ]
  },
  {
   "cell_type": "code",
   "execution_count": 18,
   "id": "9d569183",
   "metadata": {},
   "outputs": [],
   "source": [
    "ann['ID'] = [int(item[2:]) for item in a]"
   ]
  },
  {
   "cell_type": "code",
   "execution_count": 19,
   "id": "4670ee68",
   "metadata": {},
   "outputs": [],
   "source": [
    "ann.reset_index(inplace=True)\n",
    "del ann['index']"
   ]
  },
  {
   "cell_type": "code",
   "execution_count": 20,
   "id": "3631d496",
   "metadata": {},
   "outputs": [],
   "source": [
    "ann['area'] = ann['points'].apply(calculate_area)"
   ]
  },
  {
   "cell_type": "code",
   "execution_count": null,
   "id": "966386ca",
   "metadata": {},
   "outputs": [],
   "source": [
    "ann.head(5)"
   ]
  },
  {
   "cell_type": "markdown",
   "id": "e74fba43",
   "metadata": {},
   "source": [
    "## label 크기 비교"
   ]
  },
  {
   "cell_type": "code",
   "execution_count": null,
   "id": "bb588ce1",
   "metadata": {},
   "outputs": [],
   "source": [
    "plt.figure(figsize=(10, 8))\n",
    "sns.barplot(x='label', y='area', data=ann.groupby('label')['area'].mean().reset_index())\n",
    "plt.title('mean area')\n",
    "plt.xticks(rotation=90)  # x 축의 글자를 세로로 변경\n",
    "# plt.savefig('./EDA/mean_area_by_label.png')  # 이미지를 저장\n",
    "plt.show()\n"
   ]
  },
  {
   "cell_type": "code",
   "execution_count": 23,
   "id": "ebcc161f",
   "metadata": {},
   "outputs": [],
   "source": [
    "gb_labal = ann.groupby('label')['area'].mean().reset_index()\n",
    "gb_labal['ratio'] = gb_labal['area']/(2048*2048)*100"
   ]
  },
  {
   "cell_type": "markdown",
   "id": "eb7c031c",
   "metadata": {},
   "source": [
    "## 전체 이미지에 대한 label 크기 비율 "
   ]
  },
  {
   "cell_type": "code",
   "execution_count": null,
   "id": "7706a6eb",
   "metadata": {},
   "outputs": [],
   "source": [
    "plt.figure(figsize=(10, 8))\n",
    "sns.barplot(x='label', y='ratio', data=gb_labal, color= 'orange')\n",
    "plt.title('area ratio')\n",
    "plt.xticks(rotation=90)  # x 축의 글자를 세로로 변경\n",
    "plt.ylim(0,100)\n",
    "# plt.savefig('./EDA/area_ratio_by_label.png')  # 이미지를 저장\n",
    "\n",
    "plt.show()\n"
   ]
  },
  {
   "cell_type": "markdown",
   "id": "478e988a",
   "metadata": {},
   "source": [
    "## 전체 이미지 HEATMAB"
   ]
  },
  {
   "cell_type": "code",
   "execution_count": null,
   "id": "8b55da45",
   "metadata": {},
   "outputs": [],
   "source": [
    "labels = ['Ulna', 'Radius',\n",
    "    'finger-1', 'finger-2', 'finger-3', 'finger-4', 'finger-5', 'finger-6', \n",
    "    'finger-7', 'finger-8', 'finger-9', 'finger-10', 'finger-11', 'finger-12',\n",
    "    'finger-13', 'finger-14', 'finger-15', 'finger-16', 'finger-17', 'finger-18', 'finger-19', \n",
    "    'Capitate', 'Hamate', 'Lunate', 'Pisiform',  'Scaphoid',\n",
    "    'Trapezium', 'Trapezoid', 'Triquetrum'\n",
    "]\n",
    "\n",
    "# 특정 언어와 이미지 크기 필터링 조건 설정\n",
    "# target_lang = 'chinese'  # 특정 언어를 지정 (예: 'chinese')\n",
    "target_size = (2048, 2048)  # 필터링할 이미지 크기\n",
    "\n",
    "# 히트맵 크기 설정\n",
    "img_height, img_width = target_size\n",
    "HEATMAP_SIZE = (img_height, img_width)\n",
    "\n",
    "colors_2 = sns.color_palette(\"Reds\", 2)         # 2개 색상 (팔뼈 톤)\n",
    "colors_19 = sns.color_palette(\"Blues\", 19)    # 19개 색상 (손가락 뼈 톤)\n",
    "colors_8 = sns.color_palette(\"Greens\", 8)          # 8개 색상 (손목 뼈 톤)\n",
    "colors_1 = sns.color_palette(\"Greys\", 1)          # 1개 색상 (전체 톤)\n",
    "# 각 톤을 하나의 리스트로 합침\n",
    "all_colors = colors_2 + colors_19 + colors_8 + colors_1\n",
    "\n",
    "# 각 색상에 맞게 커스텀 컬러맵 생성\n",
    "custom_cmaps = [\n",
    "    matplotlib.colors.LinearSegmentedColormap.from_list(\n",
    "        colors=[(0.05, 0.05, 0.05), c, (0.95, 0.95, 0.95)], \n",
    "        name=f\"custom_{i}\") \n",
    "    for i, c in enumerate(all_colors)\n",
    "]\n",
    "\n",
    "heatmap_all = np.zeros(HEATMAP_SIZE, dtype=np.int16)\n",
    "\n",
    "for i, label in enumerate(labels):\n",
    "    points_list = ann[ann['label'] == label]  # 특정 라벨에 해당하는 데이터 선택\n",
    "    # 히트맵 초기화\n",
    "    heatmap = np.zeros(HEATMAP_SIZE, dtype=np.int16)\n",
    "\n",
    "    transform = from_origin(0, img_height, 1, 1)  # 좌상단 (0, img_height), 1픽셀당 1단위\n",
    "\n",
    "    for points in tqdm(points_list['points'], total=len(points_list['points'])):\n",
    "        polygon = Polygon(points)  # points를 Polygon으로 변환\n",
    "        mask = geometry_mask([polygon], transform=transform, invert=True, out_shape=HEATMAP_SIZE)  # 다각형 마스크 변환\n",
    "        heatmap += mask.astype(np.int16)\n",
    "        heatmap_all += mask.astype(np.int16)\n",
    "\n",
    "# 히트맵 누적 계산\n",
    "\n",
    "    # 히트맵 시각화\n",
    "    plt.figure(figsize=(10, 8))\n",
    "    plt.imshow(heatmap, cmap=custom_cmaps[i], interpolation=\"nearest\")\n",
    "    plt.colorbar(label=\"Count of Points\")\n",
    "    plt.gca().invert_yaxis()\n",
    "    plt.axis('off')\n",
    "    plt.title(label)\n",
    "    # plt.savefig(f'./EDA/heatmap_{label}.png')\n",
    "\n",
    "    plt.show()\n",
    "\n",
    "plt.figure(figsize=(10, 8))\n",
    "plt.imshow(heatmap_all, cmap=custom_cmaps[-1], interpolation=\"nearest\")\n",
    "plt.colorbar(label=\"Count of Points\")\n",
    "plt.gca().invert_yaxis()\n",
    "plt.axis('off')\n",
    "plt.title('All')\n",
    "# plt.savefig(f'./EDA/heatmap_All.png')\n",
    "\n",
    "plt.show()\n",
    "\n",
    "\n"
   ]
  },
  {
   "cell_type": "code",
   "execution_count": null,
   "id": "e7aa02b1",
   "metadata": {},
   "outputs": [],
   "source": [
    "# 짝수(R)\n",
    "heatmap_all = np.zeros(HEATMAP_SIZE, dtype=np.int16)\n",
    "\n",
    "for i, label in enumerate(labels):\n",
    "    points_list = ann[ann['label'] == label][::2]  # 특정 라벨에 해당하는 데이터 선택\n",
    "    # 히트맵 초기화\n",
    "    heatmap = np.zeros(HEATMAP_SIZE, dtype=np.int16)\n",
    "    transform = from_origin(0, img_height, 1, 1)  # 좌상단 (0, img_height), 1픽셀당 1단위\n",
    "\n",
    "    for points in tqdm(points_list['points'], total=len(points_list['points'])):\n",
    "        polygon = Polygon(points)  # points를 Polygon으로 변환\n",
    "        mask = geometry_mask([polygon], transform=transform, invert=True, out_shape=HEATMAP_SIZE)  # 다각형 마스크 변환\n",
    "        heatmap += mask.astype(np.int16)\n",
    "        heatmap_all += mask.astype(np.int16)\n",
    "# 히트맵 누적 계산\n",
    "\n",
    "    # 히트맵 시각화\n",
    "    plt.figure(figsize=(10, 8))\n",
    "    plt.imshow(heatmap, cmap=custom_cmaps[i], interpolation=\"nearest\")\n",
    "    plt.colorbar(label=\"Count of Points\")\n",
    "    plt.gca().invert_yaxis()\n",
    "    plt.axis('off')\n",
    "    plt.title(label)\n",
    "    # plt.savefig(f'./EDA/heatmap_R_{label}.png')\n",
    "\n",
    "    plt.show()\n",
    "\n",
    "plt.figure(figsize=(10, 8))\n",
    "plt.imshow(heatmap_all, cmap=custom_cmaps[-1], interpolation=\"nearest\")\n",
    "plt.colorbar(label=\"Count of Points\")\n",
    "plt.gca().invert_yaxis()\n",
    "plt.axis('off')\n",
    "plt.title('All_R')\n",
    "# plt.savefig(f'./EDA/heatmap_R_All.png')\n",
    "\n",
    "plt.show()\n",
    "\n",
    "\n",
    "\n"
   ]
  },
  {
   "cell_type": "code",
   "execution_count": null,
   "id": "64afe271",
   "metadata": {},
   "outputs": [],
   "source": [
    "# 홀수(L)\n",
    "heatmap_all = np.zeros(HEATMAP_SIZE, dtype=np.int16)\n",
    "\n",
    "for i, label in enumerate(labels):\n",
    "    points_list = ann[ann['label'] == label][1::2]  # 특정 라벨에 해당하는 데이터 선택\n",
    "    # 히트맵 초기화\n",
    "    heatmap = np.zeros(HEATMAP_SIZE, dtype=np.int16)\n",
    "    transform = from_origin(0, img_height, 1, 1)  # 좌상단 (0, img_height), 1픽셀당 1단위\n",
    "\n",
    "    for points in tqdm(points_list['points'], total=len(points_list['points'])):\n",
    "        polygon = Polygon(points)  # points를 Polygon으로 변환\n",
    "        mask = geometry_mask([polygon], transform=transform, invert=True, out_shape=HEATMAP_SIZE)  # 다각형 마스크 변환\n",
    "        heatmap += mask.astype(np.int16)\n",
    "        heatmap_all += mask.astype(np.int16)\n",
    "# 히트맵 누적 계산\n",
    "\n",
    "    # 히트맵 시각화\n",
    "    plt.figure(figsize=(10, 8))\n",
    "    plt.imshow(heatmap, cmap=custom_cmaps[i], interpolation=\"nearest\")\n",
    "    plt.colorbar(label=\"Count of Points\")\n",
    "    plt.gca().invert_yaxis()\n",
    "    plt.axis('off')\n",
    "    plt.title(label)\n",
    "    # plt.savefig(f'./EDA/heatmap_L_{label}.png')\n",
    "\n",
    "    plt.show()\n",
    "\n",
    "plt.figure(figsize=(10, 8))\n",
    "plt.imshow(heatmap_all, cmap=custom_cmaps[-1], interpolation=\"nearest\")\n",
    "plt.colorbar(label=\"Count of Points\")\n",
    "plt.gca().invert_yaxis()\n",
    "plt.axis('off')\n",
    "plt.title('All_L')\n",
    "# plt.savefig(f'./EDA/heatmap_L_All.png')\n",
    "\n",
    "plt.show()\n",
    "\n",
    "\n"
   ]
  },
  {
   "cell_type": "markdown",
   "id": "a5e2cbfa",
   "metadata": {},
   "source": [
    "## 손가락, 손목, 팔 별 heatmap"
   ]
  },
  {
   "cell_type": "code",
   "execution_count": null,
   "id": "75f036e5",
   "metadata": {},
   "outputs": [],
   "source": [
    "# 각 톤을 하나의 리스트로 합침\n",
    "all_colors = sns.color_palette(\"YlGnBu\", 3)  \n",
    "\n",
    "# 각 색상에 맞게 커스텀 컬러맵 생성\n",
    "custom_cmaps = [\n",
    "    matplotlib.colors.LinearSegmentedColormap.from_list(\n",
    "        colors=[(0.05, 0.05, 0.05), c, (0.95, 0.95, 0.95)], \n",
    "        name=f\"custom_{i}\") \n",
    "    for i, c in enumerate(all_colors)\n",
    "]\n",
    "\n",
    "heatmap_all = np.zeros(HEATMAP_SIZE, dtype=np.int16)\n",
    "\n",
    "for i, label in enumerate(labels[2:21]):\n",
    "    points_list = ann[ann['label'] == label][1::2]  # 특정 라벨에 해당하는 데이터 선택\n",
    "    # 히트맵 초기화\n",
    "    heatmap = np.zeros(HEATMAP_SIZE, dtype=np.int16)\n",
    "\n",
    "    transform = from_origin(0, img_height, 1, 1)  # 좌상단 (0, img_height), 1픽셀당 1단위\n",
    "\n",
    "    for points in tqdm(points_list['points'], total=len(points_list['points'])):\n",
    "        polygon = Polygon(points)  # points를 Polygon으로 변환\n",
    "        mask = geometry_mask([polygon], transform=transform, invert=True, out_shape=HEATMAP_SIZE)  # 다각형 마스크 변환\n",
    "        heatmap += mask.astype(np.int16)\n",
    "        heatmap_all += mask.astype(np.int16)\n",
    "\n",
    "\n",
    "plt.figure(figsize=(10, 8))\n",
    "plt.imshow(heatmap_all, cmap=custom_cmaps[0], interpolation=\"nearest\")\n",
    "plt.colorbar(label=\"Count of Points\")\n",
    "plt.gca().invert_yaxis()\n",
    "plt.axis('off')\n",
    "plt.title('finger_L')\n",
    "plt.savefig(f'./EDA/heatmap_L_finger.png')\n",
    "\n",
    "plt.show()\n",
    "\n",
    "\n"
   ]
  },
  {
   "cell_type": "code",
   "execution_count": null,
   "id": "4f0c62b0",
   "metadata": {},
   "outputs": [],
   "source": [
    "\n",
    "heatmap_all = np.zeros(HEATMAP_SIZE, dtype=np.int16)\n",
    "\n",
    "for i, label in enumerate(labels[21:]):\n",
    "    points_list = ann[ann['label'] == label][1::2]  # 특정 라벨에 해당하는 데이터 선택\n",
    "    # 히트맵 초기화\n",
    "    heatmap = np.zeros(HEATMAP_SIZE, dtype=np.int16)\n",
    "\n",
    "    transform = from_origin(0, img_height, 1, 1)  # 좌상단 (0, img_height), 1픽셀당 1단위\n",
    "\n",
    "    for points in tqdm(points_list['points'], total=len(points_list['points'])):\n",
    "        polygon = Polygon(points)  # points를 Polygon으로 변환\n",
    "        mask = geometry_mask([polygon], transform=transform, invert=True, out_shape=HEATMAP_SIZE)  # 다각형 마스크 변환\n",
    "        heatmap += mask.astype(np.int16)\n",
    "        heatmap_all += mask.astype(np.int16)\n",
    "\n",
    "\n",
    "plt.figure(figsize=(10, 8))\n",
    "plt.imshow(heatmap_all, cmap=custom_cmaps[1], interpolation=\"nearest\")\n",
    "plt.colorbar(label=\"Count of Points\")\n",
    "plt.gca().invert_yaxis()\n",
    "plt.axis('off')\n",
    "plt.title('arm_L')\n",
    "plt.savefig(f'./EDA/heatmap_L_arm.png')\n",
    "\n",
    "plt.show()\n",
    "\n",
    "\n"
   ]
  },
  {
   "cell_type": "code",
   "execution_count": null,
   "id": "99cbad48",
   "metadata": {},
   "outputs": [],
   "source": [
    "\n",
    "heatmap_all = np.zeros(HEATMAP_SIZE, dtype=np.int16)\n",
    "\n",
    "for i, label in enumerate(labels[:2]):\n",
    "    points_list = ann[ann['label'] == label][1::2]  # 특정 라벨에 해당하는 데이터 선택\n",
    "    # 히트맵 초기화\n",
    "    heatmap = np.zeros(HEATMAP_SIZE, dtype=np.int16)\n",
    "\n",
    "    transform = from_origin(0, img_height, 1, 1)  # 좌상단 (0, img_height), 1픽셀당 1단위\n",
    "\n",
    "    for points in tqdm(points_list['points'], total=len(points_list['points'])):\n",
    "        polygon = Polygon(points)  # points를 Polygon으로 변환\n",
    "        mask = geometry_mask([polygon], transform=transform, invert=True, out_shape=HEATMAP_SIZE)  # 다각형 마스크 변환\n",
    "        heatmap += mask.astype(np.int16)\n",
    "        heatmap_all += mask.astype(np.int16)\n",
    "\n",
    "\n",
    "plt.figure(figsize=(10, 8))\n",
    "plt.imshow(heatmap_all, cmap=custom_cmaps[2], interpolation=\"nearest\")\n",
    "plt.colorbar(label=\"Count of Points\")\n",
    "plt.gca().invert_yaxis()\n",
    "plt.axis('off')\n",
    "plt.title('wrist_L')\n",
    "# plt.savefig(f'./EDA/heatmap_L_wrist.png')\n",
    "\n",
    "plt.show()\n",
    "\n",
    "\n"
   ]
  }
 ],
 "metadata": {
  "kernelspec": {
   "display_name": "Python 3 (ipykernel)",
   "language": "python",
   "name": "python3"
  },
  "language_info": {
   "codemirror_mode": {
    "name": "ipython",
    "version": 3
   },
   "file_extension": ".py",
   "mimetype": "text/x-python",
   "name": "python",
   "nbconvert_exporter": "python",
   "pygments_lexer": "ipython3",
   "version": "3.10.13"
  }
 },
 "nbformat": 4,
 "nbformat_minor": 5
}
