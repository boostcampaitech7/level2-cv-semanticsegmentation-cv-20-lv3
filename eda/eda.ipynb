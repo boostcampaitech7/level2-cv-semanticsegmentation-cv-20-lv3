{
 "cells": [
  {
   "cell_type": "markdown",
   "id": "2c2d2121",
   "metadata": {},
   "source": [
    "# Imports & Global Constants"
   ]
  },
  {
   "cell_type": "code",
   "execution_count": null,
   "id": "a3907598-e3f4-4c30-b1fe-759870903ecf",
   "metadata": {},
   "outputs": [
    {
     "name": "stdout",
     "output_type": "stream",
     "text": [
      "Collecting opencv-python-headless==4.10.0.84\n",
      "  Using cached opencv_python_headless-4.10.0.84-cp37-abi3-win_amd64.whl.metadata (20 kB)\n",
      "Requirement already satisfied: numpy>=1.17.0 in c:\\users\\clear\\miniconda3\\envs\\deep_learning\\lib\\site-packages (from opencv-python-headless==4.10.0.84) (2.0.2)\n",
      "Using cached opencv_python_headless-4.10.0.84-cp37-abi3-win_amd64.whl (38.8 MB)\n",
      "Installing collected packages: opencv-python-headless\n",
      "Successfully installed opencv-python-headless-4.10.0.84\n",
      "Collecting pandas==2.2.3\n",
      "  Downloading pandas-2.2.3-cp39-cp39-win_amd64.whl.metadata (19 kB)\n",
      "Requirement already satisfied: numpy>=1.22.4 in c:\\users\\clear\\miniconda3\\envs\\deep_learning\\lib\\site-packages (from pandas==2.2.3) (2.0.2)\n",
      "Requirement already satisfied: python-dateutil>=2.8.2 in c:\\users\\clear\\miniconda3\\envs\\deep_learning\\lib\\site-packages (from pandas==2.2.3) (2.9.0)\n",
      "Collecting pytz>=2020.1 (from pandas==2.2.3)\n",
      "  Using cached pytz-2024.2-py2.py3-none-any.whl.metadata (22 kB)\n",
      "Collecting tzdata>=2022.7 (from pandas==2.2.3)\n",
      "  Downloading tzdata-2024.2-py2.py3-none-any.whl.metadata (1.4 kB)\n",
      "Requirement already satisfied: six>=1.5 in c:\\users\\clear\\miniconda3\\envs\\deep_learning\\lib\\site-packages (from python-dateutil>=2.8.2->pandas==2.2.3) (1.16.0)\n",
      "Downloading pandas-2.2.3-cp39-cp39-win_amd64.whl (11.6 MB)\n",
      "   ---------------------------------------- 0.0/11.6 MB ? eta -:--:--\n",
      "   ------ --------------------------------- 1.8/11.6 MB 9.1 MB/s eta 0:00:02\n",
      "   ------------- -------------------------- 3.9/11.6 MB 9.0 MB/s eta 0:00:01\n",
      "   ------------------ --------------------- 5.2/11.6 MB 8.4 MB/s eta 0:00:01\n",
      "   -------------------------- ------------- 7.6/11.6 MB 9.0 MB/s eta 0:00:01\n",
      "   --------------------------------- ------ 9.7/11.6 MB 9.0 MB/s eta 0:00:01\n",
      "   ------------------------------------- -- 10.7/11.6 MB 8.6 MB/s eta 0:00:01\n",
      "   ---------------------------------------  11.5/11.6 MB 8.5 MB/s eta 0:00:01\n",
      "   ---------------------------------------- 11.6/11.6 MB 7.6 MB/s eta 0:00:00\n",
      "Using cached pytz-2024.2-py2.py3-none-any.whl (508 kB)\n",
      "Downloading tzdata-2024.2-py2.py3-none-any.whl (346 kB)\n",
      "Installing collected packages: pytz, tzdata, pandas\n",
      "Successfully installed pandas-2.2.3 pytz-2024.2 tzdata-2024.2\n",
      "Collecting scikit-learn==1.5.2\n",
      "  Downloading scikit_learn-1.5.2-cp39-cp39-win_amd64.whl.metadata (13 kB)\n",
      "Requirement already satisfied: numpy>=1.19.5 in c:\\users\\clear\\miniconda3\\envs\\deep_learning\\lib\\site-packages (from scikit-learn==1.5.2) (2.0.2)\n",
      "Collecting scipy>=1.6.0 (from scikit-learn==1.5.2)\n",
      "  Using cached scipy-1.13.1-cp39-cp39-win_amd64.whl.metadata (60 kB)\n",
      "Collecting joblib>=1.2.0 (from scikit-learn==1.5.2)\n",
      "  Using cached joblib-1.4.2-py3-none-any.whl.metadata (5.4 kB)\n",
      "Collecting threadpoolctl>=3.1.0 (from scikit-learn==1.5.2)\n",
      "  Using cached threadpoolctl-3.5.0-py3-none-any.whl.metadata (13 kB)\n",
      "Downloading scikit_learn-1.5.2-cp39-cp39-win_amd64.whl (11.0 MB)\n",
      "   ---------------------------------------- 0.0/11.0 MB ? eta -:--:--\n",
      "   ------- -------------------------------- 2.1/11.0 MB 10.7 MB/s eta 0:00:01\n",
      "   ------------ --------------------------- 3.4/11.0 MB 8.1 MB/s eta 0:00:01\n",
      "   ------------------ --------------------- 5.0/11.0 MB 7.9 MB/s eta 0:00:01\n",
      "   ----------------------- ---------------- 6.6/11.0 MB 7.9 MB/s eta 0:00:01\n",
      "   ------------------------------ --------- 8.4/11.0 MB 8.1 MB/s eta 0:00:01\n",
      "   -------------------------------------- - 10.5/11.0 MB 8.4 MB/s eta 0:00:01\n",
      "   ---------------------------------------- 11.0/11.0 MB 7.7 MB/s eta 0:00:00\n",
      "Using cached joblib-1.4.2-py3-none-any.whl (301 kB)\n",
      "Using cached scipy-1.13.1-cp39-cp39-win_amd64.whl (46.2 MB)\n",
      "Using cached threadpoolctl-3.5.0-py3-none-any.whl (18 kB)\n",
      "Installing collected packages: threadpoolctl, scipy, joblib, scikit-learn\n",
      "Successfully installed joblib-1.4.2 scikit-learn-1.5.2 scipy-1.13.1 threadpoolctl-3.5.0\n",
      "Collecting albumentations==1.4.18\n",
      "  Using cached albumentations-1.4.18-py3-none-any.whl.metadata (32 kB)\n",
      "Requirement already satisfied: numpy>=1.24.4 in c:\\users\\clear\\miniconda3\\envs\\deep_learning\\lib\\site-packages (from albumentations==1.4.18) (2.0.2)\n",
      "Requirement already satisfied: scipy>=1.10.0 in c:\\users\\clear\\miniconda3\\envs\\deep_learning\\lib\\site-packages (from albumentations==1.4.18) (1.13.1)\n",
      "Collecting scikit-image>=0.21.0 (from albumentations==1.4.18)\n",
      "  Downloading scikit_image-0.24.0-cp39-cp39-win_amd64.whl.metadata (14 kB)\n",
      "Collecting PyYAML (from albumentations==1.4.18)\n",
      "  Using cached PyYAML-6.0.2-cp39-cp39-win_amd64.whl.metadata (2.1 kB)\n",
      "Collecting pydantic>=2.7.0 (from albumentations==1.4.18)\n",
      "  Using cached pydantic-2.9.2-py3-none-any.whl.metadata (149 kB)\n",
      "Collecting albucore==0.0.17 (from albumentations==1.4.18)\n",
      "  Using cached albucore-0.0.17-py3-none-any.whl.metadata (3.1 kB)\n",
      "Collecting eval-type-backport (from albumentations==1.4.18)\n",
      "  Using cached eval_type_backport-0.2.0-py3-none-any.whl.metadata (2.2 kB)\n",
      "Requirement already satisfied: opencv-python-headless>=4.9.0.80 in c:\\users\\clear\\miniconda3\\envs\\deep_learning\\lib\\site-packages (from albumentations==1.4.18) (4.10.0.84)\n",
      "Requirement already satisfied: typing-extensions>=4.9.0 in c:\\users\\clear\\miniconda3\\envs\\deep_learning\\lib\\site-packages (from albumentations==1.4.18) (4.12.2)\n",
      "Collecting annotated-types>=0.6.0 (from pydantic>=2.7.0->albumentations==1.4.18)\n",
      "  Using cached annotated_types-0.7.0-py3-none-any.whl.metadata (15 kB)\n",
      "Collecting pydantic-core==2.23.4 (from pydantic>=2.7.0->albumentations==1.4.18)\n",
      "  Using cached pydantic_core-2.23.4-cp39-none-win_amd64.whl.metadata (6.7 kB)\n",
      "Requirement already satisfied: networkx>=2.8 in c:\\users\\clear\\miniconda3\\envs\\deep_learning\\lib\\site-packages (from scikit-image>=0.21.0->albumentations==1.4.18) (3.2.1)\n",
      "Requirement already satisfied: pillow>=9.1 in c:\\users\\clear\\miniconda3\\envs\\deep_learning\\lib\\site-packages (from scikit-image>=0.21.0->albumentations==1.4.18) (11.0.0)\n",
      "Collecting imageio>=2.33 (from scikit-image>=0.21.0->albumentations==1.4.18)\n",
      "  Downloading imageio-2.36.0-py3-none-any.whl.metadata (5.2 kB)\n",
      "Collecting tifffile>=2022.8.12 (from scikit-image>=0.21.0->albumentations==1.4.18)\n",
      "  Downloading tifffile-2024.8.30-py3-none-any.whl.metadata (31 kB)\n",
      "Requirement already satisfied: packaging>=21 in c:\\users\\clear\\miniconda3\\envs\\deep_learning\\lib\\site-packages (from scikit-image>=0.21.0->albumentations==1.4.18) (24.1)\n",
      "Collecting lazy-loader>=0.4 (from scikit-image>=0.21.0->albumentations==1.4.18)\n",
      "  Using cached lazy_loader-0.4-py3-none-any.whl.metadata (7.6 kB)\n",
      "Using cached albumentations-1.4.18-py3-none-any.whl (224 kB)\n",
      "Using cached albucore-0.0.17-py3-none-any.whl (10 kB)\n",
      "Using cached pydantic-2.9.2-py3-none-any.whl (434 kB)\n",
      "Using cached pydantic_core-2.23.4-cp39-none-win_amd64.whl (1.9 MB)\n",
      "Downloading scikit_image-0.24.0-cp39-cp39-win_amd64.whl (12.9 MB)\n",
      "   ---------------------------------------- 0.0/12.9 MB ? eta -:--:--\n",
      "   ------- -------------------------------- 2.4/12.9 MB 11.2 MB/s eta 0:00:01\n",
      "   -------------- ------------------------- 4.7/12.9 MB 11.4 MB/s eta 0:00:01\n",
      "   --------------------- ------------------ 7.1/12.9 MB 11.2 MB/s eta 0:00:01\n",
      "   ----------------------------- ---------- 9.4/12.9 MB 11.3 MB/s eta 0:00:01\n",
      "   --------------------------------- ------ 10.7/12.9 MB 10.5 MB/s eta 0:00:01\n",
      "   -------------------------------------- - 12.3/12.9 MB 9.8 MB/s eta 0:00:01\n",
      "   ---------------------------------------- 12.9/12.9 MB 8.9 MB/s eta 0:00:00\n",
      "Using cached eval_type_backport-0.2.0-py3-none-any.whl (5.9 kB)\n",
      "Using cached PyYAML-6.0.2-cp39-cp39-win_amd64.whl (162 kB)\n",
      "Using cached annotated_types-0.7.0-py3-none-any.whl (13 kB)\n",
      "Downloading imageio-2.36.0-py3-none-any.whl (315 kB)\n",
      "Using cached lazy_loader-0.4-py3-none-any.whl (12 kB)\n",
      "Downloading tifffile-2024.8.30-py3-none-any.whl (227 kB)\n",
      "Installing collected packages: tifffile, PyYAML, pydantic-core, lazy-loader, imageio, eval-type-backport, annotated-types, scikit-image, pydantic, albucore, albumentations\n",
      "Successfully installed PyYAML-6.0.2 albucore-0.0.17 albumentations-1.4.18 annotated-types-0.7.0 eval-type-backport-0.2.0 imageio-2.36.0 lazy-loader-0.4 pydantic-2.9.2 pydantic-core-2.23.4 scikit-image-0.24.0 tifffile-2024.8.30\n",
      "Requirement already satisfied: matplotlib==3.9.2 in c:\\users\\clear\\miniconda3\\envs\\deep_learning\\lib\\site-packages (3.9.2)\n",
      "Requirement already satisfied: contourpy>=1.0.1 in c:\\users\\clear\\miniconda3\\envs\\deep_learning\\lib\\site-packages (from matplotlib==3.9.2) (1.3.0)\n",
      "Requirement already satisfied: cycler>=0.10 in c:\\users\\clear\\miniconda3\\envs\\deep_learning\\lib\\site-packages (from matplotlib==3.9.2) (0.12.1)\n",
      "Requirement already satisfied: fonttools>=4.22.0 in c:\\users\\clear\\miniconda3\\envs\\deep_learning\\lib\\site-packages (from matplotlib==3.9.2) (4.54.1)\n",
      "Requirement already satisfied: kiwisolver>=1.3.1 in c:\\users\\clear\\miniconda3\\envs\\deep_learning\\lib\\site-packages (from matplotlib==3.9.2) (1.4.7)\n",
      "Requirement already satisfied: numpy>=1.23 in c:\\users\\clear\\miniconda3\\envs\\deep_learning\\lib\\site-packages (from matplotlib==3.9.2) (2.0.2)\n",
      "Requirement already satisfied: packaging>=20.0 in c:\\users\\clear\\miniconda3\\envs\\deep_learning\\lib\\site-packages (from matplotlib==3.9.2) (24.1)\n",
      "Requirement already satisfied: pillow>=8 in c:\\users\\clear\\miniconda3\\envs\\deep_learning\\lib\\site-packages (from matplotlib==3.9.2) (11.0.0)\n",
      "Requirement already satisfied: pyparsing>=2.3.1 in c:\\users\\clear\\miniconda3\\envs\\deep_learning\\lib\\site-packages (from matplotlib==3.9.2) (3.2.0)\n",
      "Requirement already satisfied: python-dateutil>=2.7 in c:\\users\\clear\\miniconda3\\envs\\deep_learning\\lib\\site-packages (from matplotlib==3.9.2) (2.9.0)\n",
      "Requirement already satisfied: importlib-resources>=3.2.0 in c:\\users\\clear\\miniconda3\\envs\\deep_learning\\lib\\site-packages (from matplotlib==3.9.2) (6.4.5)\n",
      "Requirement already satisfied: zipp>=3.1.0 in c:\\users\\clear\\miniconda3\\envs\\deep_learning\\lib\\site-packages (from importlib-resources>=3.2.0->matplotlib==3.9.2) (3.20.2)\n",
      "Requirement already satisfied: six>=1.5 in c:\\users\\clear\\miniconda3\\envs\\deep_learning\\lib\\site-packages (from python-dateutil>=2.7->matplotlib==3.9.2) (1.16.0)\n"
     ]
    }
   ],
   "source": [
    "# 노트북 실행에 필요한 라이브러리를 설치합니다\n",
    "# 주피터 노트북에 맞춰 세팅 변경\n",
    "%pip install opencv-python-headless==4.10.0.84\n",
    "%pip install pandas==2.2.3\n",
    "%pip install -U scikit-learn==1.5.2\n",
    "%pip install albumentations==1.4.18\n",
    "%pip install matplotlib==3.9.2\n",
    "%pip install openpyxl"
   ]
  },
  {
   "cell_type": "code",
   "execution_count": 3,
   "id": "c8295cb6",
   "metadata": {},
   "outputs": [
    {
     "name": "stderr",
     "output_type": "stream",
     "text": [
      "c:\\Users\\clear\\miniconda3\\envs\\deep_learning\\lib\\site-packages\\albumentations\\__init__.py:13: UserWarning: A new version of Albumentations is available: 1.4.21 (you have 1.4.18). Upgrade using: pip install -U albumentations. To disable automatic update checks, set the environment variable NO_ALBUMENTATIONS_UPDATE to 1.\n",
      "  check_for_updates()\n"
     ]
    }
   ],
   "source": [
    "# python native\n",
    "import os\n",
    "import json\n",
    "import random\n",
    "import datetime\n",
    "from functools import partial\n",
    "\n",
    "# external library\n",
    "import cv2\n",
    "import numpy as np\n",
    "import pandas as pd\n",
    "from tqdm.auto import tqdm\n",
    "from sklearn.model_selection import GroupKFold\n",
    "import albumentations as A\n",
    "\n",
    "# torch\n",
    "import torch\n",
    "import torch.nn as nn\n",
    "import torch.nn.functional as F\n",
    "import torch.optim as optim\n",
    "from torch.utils.data import Dataset, DataLoader\n",
    "from torchvision import models\n",
    "\n",
    "# visualization\n",
    "import matplotlib.pyplot as plt\n",
    "import seaborn as sns"
   ]
  },
  {
   "cell_type": "code",
   "execution_count": 6,
   "id": "1d6746cc",
   "metadata": {},
   "outputs": [],
   "source": [
    "# 데이터 경로를 입력하세요\n",
    "\n",
    "IMAGE_ROOT = \"../train/DCM\"\n",
    "LABEL_ROOT = \"../train/outputs_json\""
   ]
  },
  {
   "cell_type": "code",
   "execution_count": 7,
   "id": "819e163c",
   "metadata": {},
   "outputs": [],
   "source": [
    "CLASSES = [\n",
    "    'finger-1', 'finger-2', 'finger-3', 'finger-4', 'finger-5',\n",
    "    'finger-6', 'finger-7', 'finger-8', 'finger-9', 'finger-10',\n",
    "    'finger-11', 'finger-12', 'finger-13', 'finger-14', 'finger-15',\n",
    "    'finger-16', 'finger-17', 'finger-18', 'finger-19', 'Trapezium',\n",
    "    'Trapezoid', 'Capitate', 'Hamate', 'Scaphoid', 'Lunate',\n",
    "    'Triquetrum', 'Pisiform', 'Radius', 'Ulna',\n",
    "]\n",
    "\n",
    "# mapping\n",
    "CLASS2IND = {v: i for i, v in enumerate(CLASSES)}\n",
    "IND2CLASS = {v: k for k, v in CLASS2IND.items()}"
   ]
  },
  {
   "cell_type": "code",
   "execution_count": 8,
   "id": "cb199e3d",
   "metadata": {},
   "outputs": [],
   "source": [
    "# training setting\n",
    "BATCH_SIZE = 8\n",
    "LR = 1e-4\n",
    "RANDOM_SEED = 21\n",
    "\n",
    "NUM_EPOCHS = 5\n",
    "VAL_EVERY = 5\n",
    "\n",
    "SAVED_DIR = \"checkpoints\"\n",
    "\n",
    "if not os.path.exists(SAVED_DIR):                                                           \n",
    "    os.makedirs(SAVED_DIR)"
   ]
  },
  {
   "cell_type": "markdown",
   "id": "52cc2a79",
   "metadata": {},
   "source": [
    "# Check the Size of the Dataset"
   ]
  },
  {
   "cell_type": "markdown",
   "id": "93533655",
   "metadata": {},
   "source": [
    "`IMAGE_ROOT` 아래에 있는 모든 폴더를 재귀적으로 순회하면서 확장자가 `.png`인 파일들을 찾습니다."
   ]
  },
  {
   "cell_type": "code",
   "execution_count": 9,
   "id": "a0782493",
   "metadata": {},
   "outputs": [],
   "source": [
    "# pngs : png로 되어있는 파일 이름\n",
    "# jsons : json으로 되어있는 파일 이름\n",
    "\n",
    "pngs = {\n",
    "    os.path.relpath(os.path.join(root, fname), start=IMAGE_ROOT)\n",
    "    for root, _dirs, files in os.walk(IMAGE_ROOT)\n",
    "    for fname in files\n",
    "    if os.path.splitext(fname)[1].lower() == \".png\"\n",
    "}\n",
    "\n",
    "\n",
    "jsons = {\n",
    "    os.path.relpath(os.path.join(root, fname), start=LABEL_ROOT)\n",
    "    for root, _dirs, files in os.walk(LABEL_ROOT)\n",
    "    for fname in files\n",
    "    if os.path.splitext(fname)[1].lower() == \".json\"\n",
    "}\n",
    "\n"
   ]
  },
  {
   "cell_type": "markdown",
   "id": "653c3526",
   "metadata": {},
   "source": [
    "모든 `.png` 파일에 대해 `.json` pair가 존재하는지 체크합니다. 파일명에서 확장자를 제거한 set을 생성하고 두 집합의 차집합의 크기가 0인지 확인합니다."
   ]
  },
  {
   "cell_type": "code",
   "execution_count": 10,
   "id": "51eba0f1",
   "metadata": {},
   "outputs": [],
   "source": [
    "jsons_fn_prefix = {os.path.splitext(fname)[0] for fname in jsons}\n",
    "pngs_fn_prefix = {os.path.splitext(fname)[0] for fname in pngs}\n",
    "\n",
    "assert len(jsons_fn_prefix - pngs_fn_prefix) == 0\n",
    "assert len(pngs_fn_prefix - jsons_fn_prefix) == 0"
   ]
  },
  {
   "cell_type": "markdown",
   "id": "b13ee425",
   "metadata": {},
   "source": [
    "모든 `.png` 파일에 대해 label이 존재하는 것을 확인했습니다. 이름 순으로 정렬해서 짝이 맞도록 합니다."
   ]
  },
  {
   "cell_type": "code",
   "execution_count": 11,
   "id": "f589a513",
   "metadata": {},
   "outputs": [],
   "source": [
    "pngs = sorted(pngs)\n",
    "jsons = sorted(jsons)"
   ]
  },
  {
   "cell_type": "markdown",
   "id": "662f69ee",
   "metadata": {},
   "source": [
    "# Define Dataset Class"
   ]
  },
  {
   "cell_type": "code",
   "execution_count": 12,
   "id": "7b0d5bf7",
   "metadata": {},
   "outputs": [],
   "source": [
    "class XRayDataset(Dataset):\n",
    "    def __init__(self, is_train=True, transforms=None):\n",
    "        _filenames = np.array(pngs)\n",
    "        _labelnames = np.array(jsons)\n",
    "        \n",
    "        # split train-valid\n",
    "        # 한 폴더 안에 한 인물의 양손에 대한 `.dcm` 파일이 존재하기 때문에\n",
    "        # 폴더 이름을 그룹으로 해서 GroupKFold를 수행합니다.\n",
    "        # 동일 인물의 손이 train, valid에 따로 들어가는 것을 방지합니다.\n",
    "        groups = [os.path.dirname(fname) for fname in _filenames]\n",
    "        \n",
    "        # dummy label\n",
    "        ys = [0 for fname in _filenames]\n",
    "        \n",
    "        # 전체 데이터의 20%를 validation data로 쓰기 위해 `n_splits`를\n",
    "        # 5으로 설정하여 KFold를 수행합니다.\n",
    "        gkf = GroupKFold(n_splits=5)\n",
    "        \n",
    "        filenames = []\n",
    "        labelnames = []\n",
    "        for i, (x, y) in enumerate(gkf.split(_filenames, ys, groups)):\n",
    "            if is_train:\n",
    "                # 0번을 validation dataset으로 사용합니다.\n",
    "                if i == 0:\n",
    "                    continue\n",
    "                    \n",
    "                filenames += list(_filenames[y])\n",
    "                labelnames += list(_labelnames[y])\n",
    "            \n",
    "            else:\n",
    "                filenames = list(_filenames[y])\n",
    "                labelnames = list(_labelnames[y])\n",
    "                \n",
    "                # skip i > 0\n",
    "                break\n",
    "        \n",
    "        self.filenames = filenames\n",
    "        self.labelnames = labelnames\n",
    "        self.is_train = is_train\n",
    "        self.transforms = transforms\n",
    "    \n",
    "    def __len__(self):\n",
    "        return len(self.filenames)\n",
    "    \n",
    "    def __getitem__(self, item):\n",
    "        image_name = self.filenames[item]\n",
    "        image_path = os.path.join(IMAGE_ROOT, image_name)\n",
    "        \n",
    "        image = cv2.imread(image_path)\n",
    "        image = image / 255.\n",
    "        \n",
    "        label_name = self.labelnames[item]\n",
    "        label_path = os.path.join(LABEL_ROOT, label_name)\n",
    "        \n",
    "        # (H, W, NC) 모양의 label을 생성합니다.\n",
    "        label_shape = tuple(image.shape[:2]) + (len(CLASSES), )\n",
    "        label = np.zeros(label_shape, dtype=np.uint8)\n",
    "        \n",
    "        # label 파일을 읽습니다.\n",
    "        with open(label_path, \"r\") as f:\n",
    "            annotations = json.load(f)\n",
    "        annotations = annotations[\"annotations\"]\n",
    "        \n",
    "        # 클래스 별로 처리합니다.\n",
    "        for ann in annotations:\n",
    "            c = ann[\"label\"]\n",
    "            class_ind = CLASS2IND[c]\n",
    "            points = np.array(ann[\"points\"])\n",
    "            \n",
    "            # polygon 포맷을 dense한 mask 포맷으로 바꿉니다.\n",
    "            class_label = np.zeros(image.shape[:2], dtype=np.uint8)\n",
    "            cv2.fillPoly(class_label, [points], 1)\n",
    "            label[..., class_ind] = class_label\n",
    "        \n",
    "        if self.transforms is not None:\n",
    "            inputs = {\"image\": image, \"mask\": label} if self.is_train else {\"image\": image}\n",
    "            result = self.transforms(**inputs)\n",
    "            \n",
    "            image = result[\"image\"]\n",
    "            label = result[\"mask\"] if self.is_train else label\n",
    "\n",
    "        # to tenser will be done later\n",
    "        image = image.transpose(2, 0, 1)    # channel first 포맷으로 변경합니다.\n",
    "        label = label.transpose(2, 0, 1)\n",
    "        \n",
    "        image = torch.from_numpy(image).float()\n",
    "        label = torch.from_numpy(label).float()\n",
    "            \n",
    "        return image, label"
   ]
  },
  {
   "cell_type": "code",
   "execution_count": 13,
   "id": "575407ba",
   "metadata": {},
   "outputs": [
    {
     "name": "stdout",
     "output_type": "stream",
     "text": [
      "torch.Size([3, 512, 512]) torch.Size([29, 512, 512])\n"
     ]
    }
   ],
   "source": [
    "\n",
    "tf = A.Resize(512, 512)\n",
    "train_dataset = XRayDataset(is_train=True, transforms=tf)\n",
    "valid_dataset = XRayDataset(is_train=False, transforms=tf)\n",
    "image, label = train_dataset[0]\n",
    "print(image.shape, label.shape)"
   ]
  },
  {
   "cell_type": "markdown",
   "id": "302e7742",
   "metadata": {},
   "source": [
    "# Check Data Sample"
   ]
  },
  {
   "cell_type": "code",
   "execution_count": 30,
   "id": "89defc8c",
   "metadata": {},
   "outputs": [],
   "source": [
    "# 시각화를 위한 팔레트를 설정합니다.\n",
    "PALETTE = [\n",
    "    (220, 20, 60), (119, 11, 32), (0, 0, 142), (0, 0, 230), (106, 0, 228),\n",
    "    (0, 60, 100), (0, 80, 100), (0, 0, 70), (0, 0, 192), (250, 170, 30),\n",
    "    (100, 170, 30), (220, 220, 0), (175, 116, 175), (250, 0, 30), (165, 42, 42),\n",
    "    (255, 77, 255), (0, 226, 252), (182, 182, 255), (0, 82, 0), (120, 166, 157),\n",
    "    (110, 76, 0), (174, 57, 255), (199, 100, 0), (72, 0, 118), (255, 179, 240),\n",
    "    (0, 125, 92), (209, 0, 151), (188, 208, 182), (0, 220, 176),\n",
    "]\n",
    "\n",
    "# 파란색 계열이 제대로 안 보이기 때문에 색 수정\n",
    "PALETTE[3] = (255,0,142)\n",
    "PALETTE[4] = (255,0,230)\n",
    "PALETTE[7] = (255,230,151)\n",
    "PALETTE[8] = (132, 185, 192)\n",
    "\n",
    "\n",
    "# 겹치는 픽셀에 사용할 색 (A 색)\n",
    "OVERLAP_COLOR = (255, 255, 255)  # 흰색으로 설정 (변경 가능)\n",
    "\n",
    "# 시각화 함수입니다. 클래스가 2개 이상인 픽셀을 고려하지는 않습니다.\n",
    "# 클래스가 2개 이상인 픽셀을 뽑아주면 좋을 것 같다.\n",
    "# validation 하는 도중 틀린 것들만 시각화를 따로 해주는 것도 좋을거 같은데...\n",
    "# 어떻게 해줘야 할까?\n",
    "# 시각화 함수입니다. 클래스가 2개 이상인 픽셀을 고려하지는 않습니다.\n",
    "def label2rgb(label):\n",
    "    image_size = label.shape[1:] + (3, ) # (512,512,3)\n",
    "    image = np.zeros(image_size, dtype=np.uint8)\n",
    "    for i, class_label in enumerate(label):\n",
    "        image[class_label == 1] = PALETTE[i]\n",
    "    return image\n",
    "\n",
    "def label2rgb_duplication(label):\n",
    "    # Tensor일 경우 numpy 배열로 변환\n",
    "    if isinstance(label, torch.Tensor):\n",
    "        label = label.cpu().numpy()\n",
    "\n",
    "    # 출력 이미지를 생성합니다.\n",
    "    image_size = label.shape[1:] + (3,)  # (H, W, 3)\n",
    "    image = np.zeros(image_size, dtype=np.uint8)\n",
    "\n",
    "    # 중복을 체크하기 위해 중간 결과를 저장할 배열 생성\n",
    "    overlap_mask = np.zeros(label.shape[1:], dtype=bool)\n",
    "\n",
    "    # 각 클래스의 픽셀을 채워줍니다.\n",
    "    for i, class_label in enumerate(label):\n",
    "        # 현재 클래스의 픽셀을 numpy 배열로 변환\n",
    "        current_class_mask = (class_label == 1).astype(bool)\n",
    "\n",
    "        # 겹치는 부분을 검출\n",
    "        overlap_area = overlap_mask & current_class_mask\n",
    "\n",
    "        # 겹치는 픽셀에 OVERLAP_COLOR 적용\n",
    "        image[overlap_area] = OVERLAP_COLOR\n",
    "\n",
    "        # 겹치지 않는 부분에 클래스 색상 적용\n",
    "        non_overlap_area = current_class_mask & (~overlap_mask)\n",
    "        image[non_overlap_area] = PALETTE[i]\n",
    "\n",
    "        # 중복 마스크 업데이트\n",
    "        overlap_mask |= current_class_mask\n",
    "\n",
    "    return image"
   ]
  },
  {
   "cell_type": "code",
   "execution_count": 39,
   "id": "183e370f",
   "metadata": {},
   "outputs": [
    {
     "name": "stdout",
     "output_type": "stream",
     "text": [
      "Collecting tabulateNote: you may need to restart the kernel to use updated packages.\n",
      "\n",
      "  Downloading tabulate-0.9.0-py3-none-any.whl.metadata (34 kB)\n",
      "Downloading tabulate-0.9.0-py3-none-any.whl (35 kB)\n",
      "Installing collected packages: tabulate\n",
      "Successfully installed tabulate-0.9.0\n"
     ]
    }
   ],
   "source": [
    "%pip install tabulate\n"
   ]
  },
  {
   "cell_type": "code",
   "execution_count": null,
   "id": "12a7a140",
   "metadata": {},
   "outputs": [],
   "source": [
    "import numpy as np\n",
    "import torch\n",
    "import matplotlib.pyplot as plt\n",
    "import seaborn as sns\n",
    "\n",
    "# 각 클래스 간 겹치는 픽셀 수 계산\n",
    "def calculate_overlap_matrix(label):\n",
    "    num_classes = label.shape[0]\n",
    "    overlap_matrix = np.zeros((num_classes, num_classes), dtype=np.int32)\n",
    "\n",
    "    for i in range(num_classes):\n",
    "        for j in range(i + 1, num_classes):  # i < j 만 계산하여 대칭 행렬 생성\n",
    "            overlap_pixels = np.sum((label[i] == 1) & (label[j] == 1))\n",
    "            overlap_matrix[i, j] = overlap_pixels\n",
    "            overlap_matrix[j, i] = overlap_pixels  # 대칭값\n",
    "\n",
    "    return overlap_matrix\n",
    "\n",
    "\n",
    "_, label = train_dataset[0]\n",
    "if isinstance(label, torch.Tensor):\n",
    "    label = label.cpu().numpy()\n",
    "\n",
    "overlap_matrix = calculate_overlap_matrix(label)\n",
    "\n",
    "class_names=[f\"{CLASSES[i]}\" for i in range(len(CLASSES))]\n",
    "\n",
    "plt.figure(figsize=(12, 10))\n",
    "mask = overlap_matrix == 0\n",
    "sns.heatmap(overlap_matrix, annot=True, fmt=\"d\", cmap=\"Blues\",\n",
    "            xticklabels=class_names, yticklabels=class_names, mask=mask)\n",
    "plt.title(\"Overlap Matrix of Classes\")\n",
    "plt.xlabel(\"Class Index\")\n",
    "plt.ylabel(\"Class Index\")\n",
    "plt.show()\n",
    "\n",
    "# 클래스별 가장 많이 겹치는 클래스 찾기\n",
    "num_classes = overlap_matrix.shape[0]\n",
    "top_overlap = []\n",
    "\n",
    "for i in range(num_classes):\n",
    "    # i번째 클래스의 겹침 행렬에서 자기 자신 제외 (i == i)\n",
    "    max_overlap_idx = np.argmax(overlap_matrix[i, :])\n",
    "    max_overlap_value = overlap_matrix[i, max_overlap_idx]\n",
    "    if max_overlap_value != 0:\n",
    "        top_overlap.append((class_names[i], class_names[max_overlap_idx], max_overlap_value))\n",
    "\n",
    "# 가장 많이 겹치는 클래스 표 생성\n",
    "top_overlap_df = pd.DataFrame(top_overlap, columns=[\"Class\", \"Max Overlap With\", \"Overlap Pixels\"])\n",
    "\n",
    "print(top_overlap_df.to_markdown(index=False))\n",
    "\n",
    "# # matplotlib에서 데이터프레임 형태로 표 출력\n",
    "# fig, ax = plt.subplots(figsize=(10, 6))\n",
    "# ax.axis(\"off\")  # 축 숨기기\n",
    "# table = ax.table(cellText=top_overlap_df.values,\n",
    "#                  colLabels=top_overlap_df.columns,\n",
    "#                  cellLoc=\"center\",\n",
    "#                  loc=\"left\")\n",
    "\n",
    "# table.auto_set_font_size(False)\n",
    "# table.set_fontsize(10)\n",
    "# # table.scale(1.2, 1.2)  # 표 크기 조절\n",
    "# plt.title(\"Top Overlapping Classes for Each Class\", fontsize=14)\n",
    "# plt.show()\n",
    "\n",
    "# num_classes = overlap_matrix.shape[0]\n",
    "# top_overlap = []\n",
    "\n",
    "# for i in range(num_classes):\n",
    "#     # i번째 클래스의 겹침 행렬에서 자기 자신 제외 (i == i)\n",
    "#     max_overlap_idx = np.argmax(overlap_matrix[i, :])\n",
    "#     max_overlap_value = overlap_matrix[i, max_overlap_idx]\n",
    "#     top_overlap.append((i, max_overlap_idx, max_overlap_value))\n",
    "\n",
    "# # 바차트 그리기\n",
    "# class_labels = [f\"Class {i}\" if not class_names else class_names[i] for i, _, _ in top_overlap]\n",
    "# overlap_values = [value for _, _, value in top_overlap]\n",
    "\n",
    "# plt.figure(figsize=(12, 6))\n",
    "# plt.bar(class_labels, overlap_values, color=\"skyblue\")\n",
    "# plt.xticks(rotation=90)\n",
    "# plt.title(\"Top Overlapping Class for Each Class\")\n",
    "# plt.ylabel(\"Number of Overlapping Pixels\")\n",
    "# plt.xlabel(\"Class Index\")\n",
    "# plt.show()\n",
    "\n"
   ]
  },
  {
   "cell_type": "code",
   "execution_count": 61,
   "id": "e7d5cf43",
   "metadata": {},
   "outputs": [
    {
     "name": "stdout",
     "output_type": "stream",
     "text": [
      "| Class      | Overlap With   |   Overlap Pixels | Overlap/Class %   |\n",
      "|:-----------|:---------------|-----------------:|:------------------|\n",
      "| finger-3   | Trapezium      |                9 | 0.69%             |\n",
      "| finger-11  | finger-15      |               19 | 1.21%             |\n",
      "| finger-15  | finger-11      |               19 | 1.41%             |\n",
      "| finger-15  | finger-19      |               49 | 3.65%             |\n",
      "| finger-15  | Capitate       |                6 | 0.45%             |\n",
      "| finger-19  | finger-15      |               49 | 3.45%             |\n",
      "| finger-19  | Hamate         |               71 | 5.00%             |\n",
      "| Trapezium  | finger-3       |                9 | 1.93%             |\n",
      "| Trapezium  | Trapezoid      |               79 | 16.95%            |\n",
      "| Trapezoid  | Trapezium      |               79 | 29.37%            |\n",
      "| Trapezoid  | Capitate       |                2 | 0.74%             |\n",
      "| Capitate   | finger-15      |                6 | 0.66%             |\n",
      "| Capitate   | Trapezoid      |                2 | 0.22%             |\n",
      "| Capitate   | Hamate         |               64 | 7.06%             |\n",
      "| Capitate   | Scaphoid       |               89 | 9.81%             |\n",
      "| Capitate   | Lunate         |               63 | 6.95%             |\n",
      "| Hamate     | finger-19      |               71 | 11.62%            |\n",
      "| Hamate     | Capitate       |               64 | 10.47%            |\n",
      "| Hamate     | Lunate         |                7 | 1.15%             |\n",
      "| Hamate     | Triquetrum     |               12 | 1.96%             |\n",
      "| Scaphoid   | Capitate       |               89 | 14.64%            |\n",
      "| Scaphoid   | Radius         |               51 | 8.39%             |\n",
      "| Lunate     | Capitate       |               63 | 11.73%            |\n",
      "| Lunate     | Hamate         |                7 | 1.30%             |\n",
      "| Lunate     | Triquetrum     |                1 | 0.19%             |\n",
      "| Lunate     | Pisiform       |                6 | 1.12%             |\n",
      "| Lunate     | Radius         |               56 | 10.43%            |\n",
      "| Triquetrum | Hamate         |               12 | 3.36%             |\n",
      "| Triquetrum | Lunate         |                1 | 0.28%             |\n",
      "| Triquetrum | Pisiform       |              164 | 45.94%            |\n",
      "| Pisiform   | Lunate         |                6 | 2.88%             |\n",
      "| Pisiform   | Triquetrum     |              164 | 78.85%            |\n",
      "| Radius     | Scaphoid       |               51 | 1.37%             |\n",
      "| Radius     | Lunate         |               56 | 1.50%             |\n"
     ]
    }
   ],
   "source": [
    "import numpy as np\n",
    "import torch\n",
    "import matplotlib.pyplot as plt\n",
    "import seaborn as sns\n",
    "\n",
    "# 각 클래스 간 겹치는 픽셀 수 계산\n",
    "def calculate_overlap_matrix(label):\n",
    "    num_classes = label.shape[0]\n",
    "    overlap_matrix = np.zeros((num_classes, num_classes), dtype=np.int32)\n",
    "\n",
    "    for i in range(num_classes):\n",
    "        for j in range(i + 1, num_classes):  # i < j 만 계산하여 대칭 행렬 생성\n",
    "            overlap_pixels = np.sum((label[i] == 1) & (label[j] == 1))\n",
    "            overlap_matrix[i, j] = overlap_pixels\n",
    "            overlap_matrix[j, i] = overlap_pixels  # 대칭값\n",
    "\n",
    "    return overlap_matrix\n",
    "\n",
    "\n",
    "_, label = train_dataset[0]\n",
    "if isinstance(label, torch.Tensor):\n",
    "    label = label.cpu().numpy()\n",
    "\n",
    "overlap_matrix = calculate_overlap_matrix(label)\n",
    "\n",
    "class_names=[f\"{CLASSES[i]}\" for i in range(len(CLASSES))]\n",
    "\n",
    "# plt.figure(figsize=(12, 10))\n",
    "# mask = overlap_matrix == 0\n",
    "# sns.heatmap(overlap_matrix, annot=True, fmt=\"d\", cmap=\"Blues\",\n",
    "#             xticklabels=class_names, yticklabels=class_names, mask=mask)\n",
    "# plt.title(\"Overlap Matrix of Classes\")\n",
    "# plt.xlabel(\"Class Index\")\n",
    "# plt.ylabel(\"Class Index\")\n",
    "# plt.show()\n",
    "\n",
    "# 겹치는 클래스 모두 산정\n",
    "num_classes = len(CLASSES)\n",
    "top_overlap = []\n",
    "\n",
    "for i in range(num_classes):\n",
    "    all_pixel_per_label = np.sum(label[i])\n",
    "    for overlap_idx in range(num_classes): # overlap_idx > i 인 경우에 대해서만 계산\n",
    "        if overlap_idx == i: continue\n",
    "        overlap_value = overlap_matrix[i,overlap_idx]\n",
    "        if overlap_value != 0:\n",
    "            top_overlap.append((class_names[i], class_names[overlap_idx], overlap_value, f'{overlap_value/all_pixel_per_label*100:.2f}%'))\n",
    "\n",
    "# 가장 많이 겹치는 클래스 표 생성\n",
    "top_overlap_df = pd.DataFrame(top_overlap, columns=[\"Class\", \"Overlap With\", \"Overlap Pixels\",\"Overlap/Class %\"])\n",
    "\n",
    "print(top_overlap_df.to_markdown(index=False))\n",
    "\n"
   ]
  },
  {
   "cell_type": "code",
   "execution_count": 24,
   "id": "a5048a25",
   "metadata": {},
   "outputs": [
    {
     "data": {
      "text/plain": [
       "(29, 29)"
      ]
     },
     "execution_count": 24,
     "metadata": {},
     "output_type": "execute_result"
    }
   ],
   "source": [
    "overlap_matrix.shape"
   ]
  },
  {
   "cell_type": "code",
   "execution_count": null,
   "id": "f9845fe3",
   "metadata": {},
   "outputs": [],
   "source": [
    "import matplotlib.patches as mpatches\n",
    "fig, ax = plt.subplots(1, 3, figsize=(24, 12))\n",
    "ax[0].imshow(image[0])    # color map 적용을 위해 channel 차원을 생략합니다.\n",
    "ax[0].set_title(\"original image\")\n",
    "\n",
    "ax[1].imshow(label2rgb(label))\n",
    "ax[1].set_title(\"Label\")\n",
    "\n",
    "ax[2].imshow(label2rgb_duplication(label))\n",
    "ax[2].set_title(\"Label with white\")\n",
    "\n",
    "# 범례 추가\n",
    "def color_to_float_scale(color):\n",
    "    return tuple(c/255 for c in color)\n",
    "legend_patches = [mpatches.Patch(color=color_to_float_scale(PALETTE[i]), label=f\"{CLASSES[i]}\") for i in range(len(CLASSES))]\n",
    "fig.legend(handles=legend_patches, loc=\"upper right\", fontsize=14)\n",
    "\n",
    "plt.show()"
   ]
  },
  {
   "cell_type": "code",
   "execution_count": 18,
   "id": "5a15ed96",
   "metadata": {},
   "outputs": [
    {
     "data": {
      "text/plain": [
       "(29, 29)"
      ]
     },
     "execution_count": 18,
     "metadata": {},
     "output_type": "execute_result"
    }
   ],
   "source": [
    "len(PALETTE), len(CLASSES)"
   ]
  },
  {
   "cell_type": "markdown",
   "id": "d06e57a7",
   "metadata": {},
   "source": [
    "# MetaData 분석"
   ]
  },
  {
   "cell_type": "code",
   "execution_count": 13,
   "id": "82b84dda",
   "metadata": {},
   "outputs": [
    {
     "data": {
      "text/html": [
       "<div>\n",
       "<style scoped>\n",
       "    .dataframe tbody tr th:only-of-type {\n",
       "        vertical-align: middle;\n",
       "    }\n",
       "\n",
       "    .dataframe tbody tr th {\n",
       "        vertical-align: top;\n",
       "    }\n",
       "\n",
       "    .dataframe thead th {\n",
       "        text-align: right;\n",
       "    }\n",
       "</style>\n",
       "<table border=\"1\" class=\"dataframe\">\n",
       "  <thead>\n",
       "    <tr style=\"text-align: right;\">\n",
       "      <th></th>\n",
       "      <th>ID</th>\n",
       "      <th>나이</th>\n",
       "      <th>체중(몸무게)</th>\n",
       "      <th>키(신장)</th>\n",
       "    </tr>\n",
       "  </thead>\n",
       "  <tbody>\n",
       "    <tr>\n",
       "      <th>count</th>\n",
       "      <td>550.000000</td>\n",
       "      <td>550.000000</td>\n",
       "      <td>550.000000</td>\n",
       "      <td>550.000000</td>\n",
       "    </tr>\n",
       "    <tr>\n",
       "      <th>mean</th>\n",
       "      <td>275.500000</td>\n",
       "      <td>31.865455</td>\n",
       "      <td>64.516364</td>\n",
       "      <td>167.767455</td>\n",
       "    </tr>\n",
       "    <tr>\n",
       "      <th>std</th>\n",
       "      <td>158.915596</td>\n",
       "      <td>10.382489</td>\n",
       "      <td>12.782005</td>\n",
       "      <td>7.956421</td>\n",
       "    </tr>\n",
       "    <tr>\n",
       "      <th>min</th>\n",
       "      <td>1.000000</td>\n",
       "      <td>19.000000</td>\n",
       "      <td>42.000000</td>\n",
       "      <td>150.000000</td>\n",
       "    </tr>\n",
       "    <tr>\n",
       "      <th>25%</th>\n",
       "      <td>138.250000</td>\n",
       "      <td>25.000000</td>\n",
       "      <td>55.000000</td>\n",
       "      <td>161.000000</td>\n",
       "    </tr>\n",
       "    <tr>\n",
       "      <th>50%</th>\n",
       "      <td>275.500000</td>\n",
       "      <td>29.000000</td>\n",
       "      <td>63.000000</td>\n",
       "      <td>168.000000</td>\n",
       "    </tr>\n",
       "    <tr>\n",
       "      <th>75%</th>\n",
       "      <td>412.750000</td>\n",
       "      <td>36.000000</td>\n",
       "      <td>74.000000</td>\n",
       "      <td>174.000000</td>\n",
       "    </tr>\n",
       "    <tr>\n",
       "      <th>max</th>\n",
       "      <td>550.000000</td>\n",
       "      <td>69.000000</td>\n",
       "      <td>118.000000</td>\n",
       "      <td>187.000000</td>\n",
       "    </tr>\n",
       "  </tbody>\n",
       "</table>\n",
       "</div>"
      ],
      "text/plain": [
       "               ID          나이     체중(몸무게)       키(신장)\n",
       "count  550.000000  550.000000  550.000000  550.000000\n",
       "mean   275.500000   31.865455   64.516364  167.767455\n",
       "std    158.915596   10.382489   12.782005    7.956421\n",
       "min      1.000000   19.000000   42.000000  150.000000\n",
       "25%    138.250000   25.000000   55.000000  161.000000\n",
       "50%    275.500000   29.000000   63.000000  168.000000\n",
       "75%    412.750000   36.000000   74.000000  174.000000\n",
       "max    550.000000   69.000000  118.000000  187.000000"
      ]
     },
     "execution_count": 13,
     "metadata": {},
     "output_type": "execute_result"
    }
   ],
   "source": [
    "df = pd.read_excel(\"../meta_data.xlsx\", engine='openpyxl')\n",
    "df.describe()"
   ]
  },
  {
   "cell_type": "code",
   "execution_count": 121,
   "id": "db80283f",
   "metadata": {},
   "outputs": [],
   "source": [
    "import matplotlib.font_manager as fm\n",
    "# 한글 폰트 설정\n",
    "font_path = 'C:/Windows/Fonts/malgun.ttf'  # Windows의 경우 (Malgun Gothic)\n",
    "prop = fm.FontProperties(fname=font_path)\n",
    "plt.rc('font', family=prop.get_name())"
   ]
  },
  {
   "cell_type": "code",
   "execution_count": 36,
   "id": "a7529b3c",
   "metadata": {},
   "outputs": [
    {
     "data": {
      "text/plain": [
       "array(['여', '남'], dtype=object)"
      ]
     },
     "execution_count": 36,
     "metadata": {},
     "output_type": "execute_result"
    }
   ],
   "source": [
    "df['성별'].unique() # array(['_x0008_여', '_x0008_남', '남', '여', ' 여', ' 남'], dtype=object) -> 이상한 값들이 껴 있는 것을 확인\n",
    "# data cleansing\n",
    "\n",
    "# _x0008_를 빈 문자열로 교체\n",
    "df['성별'] = df['성별'].str.replace('_x0008_', '', regex=False)\n",
    "df['성별'] = df['성별'].str.replace(' ', '', regex=False)\n",
    "\n",
    "df['성별'].unique() # array(['_x0008_여', '_x0008_남', '남', '여', ' 여', ' 남'], dtype=object) -> 이상한 값들이 껴 있는 것을 확인\n"
   ]
  },
  {
   "cell_type": "code",
   "execution_count": 37,
   "id": "132f59bb",
   "metadata": {},
   "outputs": [
    {
     "data": {
      "text/plain": [
       "<Axes: xlabel='나이'>"
      ]
     },
     "execution_count": 37,
     "metadata": {},
     "output_type": "execute_result"
    },
    {
     "data": {
      "image/png": "[encoded data removed]",
      "text/plain": [
       "<Figure size 640x480 with 1 Axes>"
      ]
     },
     "metadata": {},
     "output_type": "display_data"
    }
   ],
   "source": [
    "# fig, axes = plt.subplots(1,2, figsize=(12,5))\n",
    "\n",
    "age_categories =  pd.cut(df[\"나이\"],bins = list(range(0, int(df[\"나이\"].max()) + 10, 10)),labels = [f\"{x}대\"for x in range(0, int(df[\"나이\"].max()), 10)])\n",
    "age_categories.value_counts(normalize=True).sort_index().plot(kind=\"bar\")\n",
    "# sns.displot(df[\"나이\"], bins=range(0, int(df[\"나이\"].max()) + 1, 10)).set(title=\"나이대 인구수\")\n",
    "# plt.show()"
   ]
  },
  {
   "cell_type": "code",
   "execution_count": 50,
   "id": "1c748fac",
   "metadata": {},
   "outputs": [
    {
     "name": "stdout",
     "output_type": "stream",
     "text": [
      "550 544\n"
     ]
    }
   ],
   "source": [
    "TEST_IMAGE_ROOT = \"../test/DCM\"\n",
    "test_pngs = {\n",
    "    os.path.relpath(os.path.join(root, fname), start=TEST_IMAGE_ROOT)\n",
    "    for root, _dirs, files in os.walk(TEST_IMAGE_ROOT)\n",
    "    for fname in files\n",
    "    if os.path.splitext(fname)[1].lower() == \".png\"\n",
    "}\n",
    "\n",
    "print(len(df), (len(pngs) + len(test_pngs)) // 2)"
   ]
  },
  {
   "cell_type": "code",
   "execution_count": 39,
   "id": "4922f9ae",
   "metadata": {},
   "outputs": [
    {
     "data": {
      "image/png": "[encoded data removed]",
      "text/plain": [
       "<Figure size 2000x600 with 2 Axes>"
      ]
     },
     "metadata": {},
     "output_type": "display_data"
    }
   ],
   "source": [
    "df['나이대'] =  pd.cut(df[\"나이\"],bins = list(range(10, int(df[\"나이\"].max()) + 10, 10)),labels = [f\"{x}대\"for x in range(10, int(df[\"나이\"].max()), 10)])\n",
    "height_age = df.groupby(['성별','나이대'], observed=False)['체중(몸무게)'].describe()\n",
    "# height_age.describe()\n",
    "\n",
    "# 그래프 시각화\n",
    "plt.figure(figsize=(20, 6))\n",
    "\n",
    "# 1. 박스 플롯: 성별에 따른 나이대별 체중 박스 플롯\n",
    "plt.subplot(1, 2, 1)\n",
    "sns.boxplot(x='나이대', y='체중(몸무게)', hue='성별', data=df, palette='pastel', width=0.6)\n",
    "plt.title('성별에 따른 나이대별 체중 박스 플롯')\n",
    "plt.xlabel('나이대')\n",
    "plt.ylabel('체중(몸무게)')\n",
    "\n",
    "# 2. 바 플롯: 성별에 따른 나이대별 평균 체중 및 표준편차\n",
    "plt.subplot(1, 2, 2)\n",
    "mean_values = height_age['mean'].unstack('성별')\n",
    "std_values = height_age['std'].unstack('성별')\n",
    "mean_values.plot(kind='bar', yerr=std_values, capsize=5, color=['skyblue', 'lightcoral'], edgecolor='gray', ax=plt.gca())\n",
    "plt.title('성별에 따른 나이대별 평균 체중 및 표준편차')\n",
    "plt.xlabel('나이대')\n",
    "plt.ylabel('평균 체중 (kg)')\n",
    "\n",
    "plt.tight_layout()\n",
    "plt.show()"
   ]
  },
  {
   "cell_type": "code",
   "execution_count": 56,
   "id": "c8968e9e",
   "metadata": {},
   "outputs": [
    {
     "data": {
      "image/png": "[encoded data removed]",
      "text/plain": [
       "<Figure size 2000x600 with 2 Axes>"
      ]
     },
     "metadata": {},
     "output_type": "display_data"
    }
   ],
   "source": [
    "df['나이대'] =  pd.cut(df[\"나이\"],bins = list(range(10, int(df[\"나이\"].max()) + 10, 10)),labels = [f\"{x}대\"for x in range(10, int(df[\"나이\"].max()), 10)])\n",
    "height_age = df.groupby(['성별','나이대'], observed=False)['키(신장)'].describe()\n",
    "# height_age.describe()\n",
    "\n",
    "# 그래프 시각화\n",
    "plt.figure(figsize=(20, 6))\n",
    "\n",
    "# 1. 박스 플롯: 성별에 따른 나이대별 체중 박스 플롯\n",
    "plt.subplot(1, 2, 1)\n",
    "sns.boxplot(x='나이대', y='키(신장)', hue='성별', data=df, palette='pastel', width=0.6)\n",
    "plt.title('성별에 따른 나이대별 키 박스 플롯')\n",
    "plt.xlabel('나이대')\n",
    "plt.ylabel('키(신장)')\n",
    "\n",
    "# 2. 바 플롯: 성별에 따른 나이대별 평균 체중 및 표준편차\n",
    "plt.subplot(1, 2, 2)\n",
    "mean_values = height_age['mean'].unstack('성별')\n",
    "std_values = height_age['std'].unstack('성별')\n",
    "mean_values.plot(kind='bar', yerr=std_values, capsize=5, color=['skyblue', 'lightcoral'], edgecolor='gray', ax=plt.gca())\n",
    "plt.title('성별에 따른 나이대별 평균 키 및 표준편차')\n",
    "plt.xlabel('나이대')\n",
    "plt.ylabel('평균 키 (kg)')\n",
    "\n",
    "plt.tight_layout()\n",
    "plt.show()"
   ]
  },
  {
   "cell_type": "code",
   "execution_count": 15,
   "id": "a1455b62",
   "metadata": {},
   "outputs": [
    {
     "name": "stdout",
     "output_type": "stream",
     "text": [
      "비고:  72    네일있음\n",
      "Name: Unnamed: 5, dtype: object\n"
     ]
    }
   ],
   "source": [
    "notes_non_nan_values = df['Unnamed: 5'][~df['Unnamed: 5'].isna()]\n",
    "notes_non_nan_indices = df[~df['Unnamed: 5'].isna()].index\n",
    "print(\"비고: \",notes_non_nan_values)\n",
    "\n",
    "notes_non_nan_indices = [int(idx) for idx in notes_non_nan_indices]\n"
   ]
  },
  {
   "cell_type": "code",
   "execution_count": 52,
   "id": "a8597d2d",
   "metadata": {},
   "outputs": [
    {
     "data": {
      "text/html": [
       "<div>\n",
       "<style scoped>\n",
       "    .dataframe tbody tr th:only-of-type {\n",
       "        vertical-align: middle;\n",
       "    }\n",
       "\n",
       "    .dataframe tbody tr th {\n",
       "        vertical-align: top;\n",
       "    }\n",
       "\n",
       "    .dataframe thead th {\n",
       "        text-align: right;\n",
       "    }\n",
       "</style>\n",
       "<table border=\"1\" class=\"dataframe\">\n",
       "  <thead>\n",
       "    <tr style=\"text-align: right;\">\n",
       "      <th></th>\n",
       "      <th>ID</th>\n",
       "      <th>나이</th>\n",
       "      <th>성별</th>\n",
       "      <th>체중(몸무게)</th>\n",
       "      <th>키(신장)</th>\n",
       "      <th>Unnamed: 5</th>\n",
       "      <th>나이대</th>\n",
       "    </tr>\n",
       "  </thead>\n",
       "  <tbody>\n",
       "    <tr>\n",
       "      <th>5</th>\n",
       "      <td>6</td>\n",
       "      <td>28</td>\n",
       "      <td>여</td>\n",
       "      <td>52.0</td>\n",
       "      <td>161.0</td>\n",
       "      <td>NaN</td>\n",
       "      <td>20대</td>\n",
       "    </tr>\n",
       "    <tr>\n",
       "      <th>13</th>\n",
       "      <td>14</td>\n",
       "      <td>24</td>\n",
       "      <td>여</td>\n",
       "      <td>56.0</td>\n",
       "      <td>159.0</td>\n",
       "      <td>NaN</td>\n",
       "      <td>20대</td>\n",
       "    </tr>\n",
       "    <tr>\n",
       "      <th>21</th>\n",
       "      <td>22</td>\n",
       "      <td>29</td>\n",
       "      <td>여</td>\n",
       "      <td>55.0</td>\n",
       "      <td>153.0</td>\n",
       "      <td>NaN</td>\n",
       "      <td>20대</td>\n",
       "    </tr>\n",
       "    <tr>\n",
       "      <th>31</th>\n",
       "      <td>32</td>\n",
       "      <td>28</td>\n",
       "      <td>여</td>\n",
       "      <td>53.0</td>\n",
       "      <td>160.0</td>\n",
       "      <td>NaN</td>\n",
       "      <td>20대</td>\n",
       "    </tr>\n",
       "    <tr>\n",
       "      <th>33</th>\n",
       "      <td>34</td>\n",
       "      <td>24</td>\n",
       "      <td>여</td>\n",
       "      <td>59.0</td>\n",
       "      <td>153.0</td>\n",
       "      <td>NaN</td>\n",
       "      <td>20대</td>\n",
       "    </tr>\n",
       "    <tr>\n",
       "      <th>...</th>\n",
       "      <td>...</td>\n",
       "      <td>...</td>\n",
       "      <td>...</td>\n",
       "      <td>...</td>\n",
       "      <td>...</td>\n",
       "      <td>...</td>\n",
       "      <td>...</td>\n",
       "    </tr>\n",
       "    <tr>\n",
       "      <th>541</th>\n",
       "      <td>542</td>\n",
       "      <td>25</td>\n",
       "      <td>여</td>\n",
       "      <td>50.0</td>\n",
       "      <td>157.0</td>\n",
       "      <td>NaN</td>\n",
       "      <td>20대</td>\n",
       "    </tr>\n",
       "    <tr>\n",
       "      <th>543</th>\n",
       "      <td>544</td>\n",
       "      <td>25</td>\n",
       "      <td>여</td>\n",
       "      <td>56.0</td>\n",
       "      <td>163.0</td>\n",
       "      <td>NaN</td>\n",
       "      <td>20대</td>\n",
       "    </tr>\n",
       "    <tr>\n",
       "      <th>544</th>\n",
       "      <td>545</td>\n",
       "      <td>24</td>\n",
       "      <td>여</td>\n",
       "      <td>60.0</td>\n",
       "      <td>156.0</td>\n",
       "      <td>NaN</td>\n",
       "      <td>20대</td>\n",
       "    </tr>\n",
       "    <tr>\n",
       "      <th>545</th>\n",
       "      <td>546</td>\n",
       "      <td>28</td>\n",
       "      <td>여</td>\n",
       "      <td>50.0</td>\n",
       "      <td>158.0</td>\n",
       "      <td>NaN</td>\n",
       "      <td>20대</td>\n",
       "    </tr>\n",
       "    <tr>\n",
       "      <th>547</th>\n",
       "      <td>548</td>\n",
       "      <td>28</td>\n",
       "      <td>여</td>\n",
       "      <td>51.0</td>\n",
       "      <td>165.0</td>\n",
       "      <td>NaN</td>\n",
       "      <td>20대</td>\n",
       "    </tr>\n",
       "  </tbody>\n",
       "</table>\n",
       "<p>81 rows × 7 columns</p>\n",
       "</div>"
      ],
      "text/plain": [
       "      ID  나이 성별  체중(몸무게)  키(신장) Unnamed: 5  나이대\n",
       "5      6  28  여     52.0  161.0        NaN  20대\n",
       "13    14  24  여     56.0  159.0        NaN  20대\n",
       "21    22  29  여     55.0  153.0        NaN  20대\n",
       "31    32  28  여     53.0  160.0        NaN  20대\n",
       "33    34  24  여     59.0  153.0        NaN  20대\n",
       "..   ...  .. ..      ...    ...        ...  ...\n",
       "541  542  25  여     50.0  157.0        NaN  20대\n",
       "543  544  25  여     56.0  163.0        NaN  20대\n",
       "544  545  24  여     60.0  156.0        NaN  20대\n",
       "545  546  28  여     50.0  158.0        NaN  20대\n",
       "547  548  28  여     51.0  165.0        NaN  20대\n",
       "\n",
       "[81 rows x 7 columns]"
      ]
     },
     "execution_count": 52,
     "metadata": {},
     "output_type": "execute_result"
    }
   ],
   "source": [
    "df[(df['나이대'] == '20대') & (df['성별'] == '여')\n",
    "   & (df['체중(몸무게)'] <= 60) & (df['체중(몸무게)'] >= 50)]"
   ]
  },
  {
   "cell_type": "code",
   "execution_count": null,
   "id": "26b8db45",
   "metadata": {},
   "outputs": [],
   "source": [
    "image, label = train_dataset[10]\n",
    "fig, ax = plt.subplots(len(notes_non_nan_indices)+1, 2, figsize=(12, 12))\n",
    "\n",
    "# base setting\n",
    "ax[0,0].set_title(\"Original\")\n",
    "ax[0,1].set_title(\"Segmentation\")\n",
    "\n",
    "ax[0,0].imshow(image[0])\n",
    "ax[0,1].imshow(label2rgb(label))\n",
    "\n",
    "for idx, (notes_value, notes_idx) in enumerate(zip(notes_non_nan_values, notes_non_nan_indices)):\n",
    "    image, label = train_dataset[notes_idx*2]\n",
    "    ax[idx+1, 0].set_title(f\"{notes_idx}번 이미지에 {notes_value}\")\n",
    "    ax[idx+1, 1].set_title(\"Segmentation\")\n",
    "    \n",
    "    ax[idx+1, 0].imshow(image[0])\n",
    "    ax[idx+1, 1].imshow(label2rgb(label))\n",
    "\n",
    "plt.rc('font', family='Malgun Gothic')\n",
    "plt.show()"
   ]
  },
  {
   "cell_type": "code",
   "execution_count": null,
   "id": "84dec5bf",
   "metadata": {},
   "outputs": [],
   "source": [
    "\n",
    "image, label = train_dataset[10]\n",
    "fig, ax = plt.subplots(len(notes_non_nan_indices)+1, 2, figsize=(12, 12))\n",
    "\n",
    "# base setting\n",
    "ax[0,0].set_title(\"Original\")\n",
    "ax[0,1].set_title(\"Segmentation\")\n",
    "\n",
    "ax[0,0].imshow(image[0])\n",
    "ax[0,1].imshow(label2rgb(label))\n",
    "\n",
    "for idx, (notes_value, notes_idx) in enumerate(zip(notes_non_nan_values, notes_non_nan_indices)):\n",
    "    image, label = train_dataset[notes_idx*2]\n",
    "    ax[idx+1, 0].set_title(f\"{notes_idx}번 이미지에 {notes_value}\")\n",
    "    ax[idx+1, 1].set_title(\"Segmentation\")\n",
    "    \n",
    "    ax[idx+1, 0].imshow(image[0])\n",
    "    ax[idx+1, 1].imshow(label2rgb(label))\n",
    "\n",
    "plt.rc('font', family='Malgun Gothic')\n",
    "plt.show()"
   ]
  },
  {
   "cell_type": "markdown",
   "id": "6d1c834c",
   "metadata": {},
   "source": [
    "# 클래스별 픽셀 차지 비율"
   ]
  },
  {
   "cell_type": "code",
   "execution_count": 57,
   "id": "8948f895",
   "metadata": {},
   "outputs": [
    {
     "data": {
      "application/vnd.jupyter.widget-view+json": {
       "model_id": "5f48ad86f9ea438f889a39aebffcbd36",
       "version_major": 2,
       "version_minor": 0
      },
      "text/plain": [
       "  0%|          | 0/640 [00:00<?, ?it/s]"
      ]
     },
     "metadata": {},
     "output_type": "display_data"
    }
   ],
   "source": [
    "total_positive_ratio = 0\n",
    "total_negative_ratio = 0\n",
    "\n",
    "for i in tqdm(range(len(train_dataset))):\n",
    "    image, label = train_dataset[i]  # train_dataset[i]에서 이미지와 라벨을 가져옴\n",
    "\n",
    "    # Tensor일 경우 numpy 배열로 변환\n",
    "    if isinstance(label, torch.Tensor):\n",
    "        label = label.cpu().numpy()\n",
    "    if isinstance(image, torch.Tensor):\n",
    "        image = image.cpu().numpy()\n",
    "\n",
    "    # 전체 픽셀 수 (H * W)\n",
    "    total_pixels = label.shape[1] * label.shape[2]\n",
    "\n",
    "    # 모든 클래스에서 Positive Samples(객체가 있는 영역) 마스크 생성\n",
    "    positive_mask = np.any(label == 1, axis=0)  # (512, 512) 모양의 2D 마스크\n",
    "    positive_pixel_count = np.sum(positive_mask)\n",
    "\n",
    "    # Negative Samples(객체가 없는 영역) 계산\n",
    "    negative_pixel_count = total_pixels - positive_pixel_count\n",
    "\n",
    "    # Positive/Negative 비율 계산\n",
    "    positive_ratio = positive_pixel_count / total_pixels\n",
    "    negative_ratio = negative_pixel_count / total_pixels\n",
    "\n",
    "    # 누적 계산\n",
    "    total_positive_ratio += positive_ratio\n",
    "    total_negative_ratio += negative_ratio\n",
    "\n",
    "# 평균 비율 계산\n",
    "avg_positive_ratio = total_positive_ratio / len(train_dataset)\n",
    "avg_negative_ratio = total_negative_ratio / len(train_dataset)\n"
   ]
  },
  {
   "cell_type": "code",
   "execution_count": 59,
   "id": "29bcfafc",
   "metadata": {},
   "outputs": [
    {
     "data": {
      "image/png": "[encoded data removed]",
      "text/plain": [
       "<Figure size 600x600 with 1 Axes>"
      ]
     },
     "metadata": {},
     "output_type": "display_data"
    }
   ],
   "source": [
    "# 파이 그래프 시각화\n",
    "labels = ['Positive', 'Negative']\n",
    "sizes = [avg_positive_ratio, avg_negative_ratio]\n",
    "colors = ['#ff9999','#66b3ff']  # 색상 지정\n",
    "explode = (0.1, 0)  # 첫 번째 조각만 강조\n",
    "\n",
    "plt.figure(figsize=(6,6))\n",
    "plt.pie(sizes, explode=explode, labels=labels, colors=colors, autopct='%1.1f%%', shadow=True, startangle=140)\n",
    "plt.axis('equal')  # 원이 정원형이 되도록\n",
    "plt.title('Positive vs Negative Pixel Ratio')\n",
    "\n",
    "# 그래프 표시\n",
    "plt.show()\n"
   ]
  },
  {
   "cell_type": "markdown",
   "id": "a19c68c2",
   "metadata": {},
   "source": [
    "- positive samples 보다 negative samples가 많은 것을 볼 수 있음."
   ]
  },
  {
   "cell_type": "code",
   "execution_count": 52,
   "id": "9af86d21",
   "metadata": {},
   "outputs": [],
   "source": [
    "def calculate_class_pixel_ratio():\n",
    "    _, label = train_dataset[0]\n",
    "    class_ratios = [0] * label.shape[0]\n",
    "    for idx in tqdm(range(len(train_dataset))):\n",
    "        _, label = train_dataset[idx]\n",
    "        # Tensor일 경우 numpy 배열로 변환\n",
    "        if isinstance(label, torch.Tensor):\n",
    "            label = label.cpu().numpy()\n",
    "\n",
    "        # 전체 이미지의 픽셀 수 (H * W)\n",
    "        total_pixels = label.shape[1] * label.shape[2]\n",
    "\n",
    "        # 각 클래스의 픽셀 수 계산\n",
    "        for i, class_label in enumerate(label):\n",
    "            # 현재 클래스의 픽셀 수 계산\n",
    "            class_pixel_count = np.sum(class_label == 1)\n",
    "            \n",
    "            # 클래스 픽셀 비율 계산\n",
    "            class_ratio = class_pixel_count / total_pixels\n",
    "            class_ratios[i] += class_ratio\n",
    "    \n",
    "    return [class_ratio/len(train_dataset) for class_ratio in class_ratios]"
   ]
  },
  {
   "cell_type": "code",
   "execution_count": 53,
   "id": "d9c29c87",
   "metadata": {},
   "outputs": [
    {
     "data": {
      "application/vnd.jupyter.widget-view+json": {
       "model_id": "44b7ea25d2e545f290e15e7c453943e0",
       "version_major": 2,
       "version_minor": 0
      },
      "text/plain": [
       "  0%|          | 0/640 [00:00<?, ?it/s]"
      ]
     },
     "metadata": {},
     "output_type": "display_data"
    },
    {
     "name": "stderr",
     "output_type": "stream",
     "text": [
      "c:\\Users\\clear\\miniconda3\\envs\\deep_learning\\lib\\site-packages\\IPython\\core\\pylabtools.py:152: UserWarning: Glyph 48324 (\\N{HANGUL SYLLABLE BYEOL}) missing from font(s) DejaVu Sans.\n",
      "  fig.canvas.print_figure(bytes_io, **kw)\n",
      "c:\\Users\\clear\\miniconda3\\envs\\deep_learning\\lib\\site-packages\\IPython\\core\\pylabtools.py:152: UserWarning: Glyph 52264 (\\N{HANGUL SYLLABLE CA}) missing from font(s) DejaVu Sans.\n",
      "  fig.canvas.print_figure(bytes_io, **kw)\n",
      "c:\\Users\\clear\\miniconda3\\envs\\deep_learning\\lib\\site-packages\\IPython\\core\\pylabtools.py:152: UserWarning: Glyph 51060 (\\N{HANGUL SYLLABLE I}) missing from font(s) DejaVu Sans.\n",
      "  fig.canvas.print_figure(bytes_io, **kw)\n",
      "c:\\Users\\clear\\miniconda3\\envs\\deep_learning\\lib\\site-packages\\IPython\\core\\pylabtools.py:152: UserWarning: Glyph 49688 (\\N{HANGUL SYLLABLE SU}) missing from font(s) DejaVu Sans.\n",
      "  fig.canvas.print_figure(bytes_io, **kw)\n"
     ]
    },
    {
     "data": {
      "image/png": "[encoded data removed]",
      "text/plain": [
       "<Figure size 1200x600 with 1 Axes>"
      ]
     },
     "metadata": {},
     "output_type": "display_data"
    }
   ],
   "source": [
    "class_ratio = calculate_class_pixel_ratio()\n",
    "plt.figure(figsize=(12,6))\n",
    "plt.bar(CLASSES, class_ratio)\n",
    "plt.xticks(rotation=90)\n",
    "plt.title(\"class별 pixel 차이수\")\n",
    "plt.show()"
   ]
  },
  {
   "cell_type": "code",
   "execution_count": null,
   "id": "05330038",
   "metadata": {},
   "outputs": [],
   "source": [
    "df[df['성별']=='여']"
   ]
  },
  {
   "cell_type": "code",
   "execution_count": 4,
   "id": "476b9663",
   "metadata": {},
   "outputs": [],
   "source": [
    "df = pd.read_excel(\"../meta_data.xlsx\", engine='openpyxl')\n",
    "df.describe()\n",
    "# data cleansing\n",
    "\n",
    "# _x0008_를 빈 문자열로 교체\n",
    "df['성별'] = df['성별'].str.replace('_x0008_', '', regex=False)\n",
    "df['성별'] = df['성별'].str.replace(' ', '', regex=False)"
   ]
  },
  {
   "cell_type": "code",
   "execution_count": null,
   "id": "cad8baf5",
   "metadata": {},
   "outputs": [],
   "source": [
    "def change_form(image_name, label_name):\n",
    "    image_path = os.path.join(IMAGE_ROOT, image_name)\n",
    "\n",
    "    image = cv2.imread(image_path)\n",
    "    image = image / 255.\n",
    "\n",
    "    label_path = os.path.join(LABEL_ROOT, label_name)\n",
    "\n",
    "    # (H, W, NC) 모양의 label을 생성합니다.\n",
    "    label_shape = tuple(image.shape[:2]) + (len(CLASSES), )\n",
    "    label = np.zeros(label_shape, dtype=np.uint8)\n",
    "\n",
    "    # label 파일을 읽습니다.\n",
    "    with open(label_path, \"r\") as f:\n",
    "        annotations = json.load(f)\n",
    "    annotations = annotations[\"annotations\"]\n",
    "\n",
    "    # 클래스 별로 처리합니다.\n",
    "    for ann in annotations:\n",
    "        c = ann[\"label\"]\n",
    "        class_ind = CLASS2IND[c]\n",
    "        points = np.array(ann[\"points\"])\n",
    "        \n",
    "        # polygon 포맷을 dense한 mask 포맷으로 바꿉니다.\n",
    "        class_label = np.zeros(image.shape[:2], dtype=np.uint8)\n",
    "        cv2.fillPoly(class_label, [points], 1)\n",
    "        label[..., class_ind] = class_label\n",
    "\n",
    "\n",
    "    # to tenser will be done later\n",
    "    image = image.transpose(2, 0, 1)    # channel first 포맷으로 변경합니다.\n",
    "    label = label.transpose(2, 0, 1)\n",
    "\n",
    "    image = torch.from_numpy(image).float()\n",
    "    label = torch.from_numpy(label).float()\n",
    "        \n",
    "    return image, label"
   ]
  },
  {
   "cell_type": "code",
   "execution_count": null,
   "id": "3410a6fd",
   "metadata": {},
   "outputs": [],
   "source": [
    "import os\n",
    "import cv2\n",
    "import matplotlib.pyplot as plt\n",
    "\n",
    "# 조건: 키 범위 (예: 160 ~ 170), 몸무게 범위 (예: 50 ~ 60)\n",
    "min_height = 160\n",
    "max_height = 170\n",
    "min_weight = 50\n",
    "max_weight = 60\n",
    "\n",
    "# '여' 성별이면서 키와 몸무게가 특정 범위 내에 있는 사람들\n",
    "filtered_df = df[(df['성별'] == '남') &\n",
    "                 (df['키(신장)'] >= min_height) &\n",
    "                 (df['키(신장)'] <= max_height) &\n",
    "                 (df['체중(몸무게)'] >= min_weight) &\n",
    "                 (df['체중(몸무게)'] <= max_weight)]\n",
    "\n",
    "# 조건에 맞는 ID 리스트\n",
    "filtered_ids = filtered_df['ID'].reset_index(drop=True)\n",
    "\n",
    "\n",
    "# jsons = {\n",
    "#     os.path.relpath(os.path.join(root, fname), start=LABEL_ROOT)\n",
    "#     for root, _dirs, files in os.walk(LABEL_ROOT)\n",
    "#     for fname in files\n",
    "#     if os.path.splitext(fname)[1].lower() == \".json\"\n",
    "# }\n",
    "\n",
    "# 조건에 맞는 이미지 로드\n",
    "for woman_id_value in filtered_ids[:20]:\n",
    "    id_path = os.path.join(IMAGE_ROOT, f'ID{woman_id_value:03d}')\n",
    "    json_path = os.path.join(LABEL_ROOT, f'ID{woman_id_value:03d}') \n",
    "    # 해당 ID에 대한 폴더가 존재하는지 확인\n",
    "    if not os.path.exists(id_path):\n",
    "        print(f\"폴더 {id_path}가 존재하지 않습니다. 건너뜁니다.\")\n",
    "        continue  # 폴더가 없으면 건너뜀\n",
    "    \n",
    "    # 해당 ID의 모든 이미지 파일 중 2개만 로드\n",
    "    image_files = sorted(os.listdir(id_path))[:2]  # 상위 2개의 이미지 파일만 가져옴\n",
    "    json_files = sorted(os.listdir(json_path))[:2]\n",
    "    plt.figure(figsize=(12, 5))\n",
    "    for idx, (ifname,lfname) in enumerate(zip(image_files,json_files)):\n",
    "        image_path = os.path.join(id_path, ifname)\n",
    "        \n",
    "        # 이미지 로드\n",
    "        img = cv2.imread(image_path)\n",
    "        \n",
    "        # 이미지 로드가 성공했으면 출력\n",
    "        if img is not None:\n",
    "            plt.subplot(1,2,idx+1)\n",
    "            plt.imshow(cv2.cvtColor(img, cv2.COLOR_BGR2RGB))  # OpenCV는 BGR 순서이므로 RGB로 변환\n",
    "            plt.title(f\"ID: {woman_id_value}, File: {ifname}\")\n",
    "            plt.axis('off')  # 축 제거\n",
    "        else:\n",
    "            print(f\"Image {ifname} could not be loaded.\")\n",
    "    plt.show()"
   ]
  },
  {
   "cell_type": "code",
   "execution_count": null,
   "id": "8d2cef0b",
   "metadata": {},
   "outputs": [],
   "source": [
    "# 성별별 class 별 pixel 차이수\n",
    "\n",
    "def calculate_class_pixel_ratio():\n",
    "    _, label = train_dataset[0]\n",
    "    class_ratios = [0] * label.shape[0]\n",
    "    for idx in tqdm(range(len(train_dataset))):\n",
    "        _, label = train_dataset[idx]\n",
    "        # Tensor일 경우 numpy 배열로 변환\n",
    "        if isinstance(label, torch.Tensor):\n",
    "            label = label.cpu().numpy()\n",
    "\n",
    "        # 전체 이미지의 픽셀 수 (H * W)\n",
    "        total_pixels = label.shape[1] * label.shape[2]\n",
    "\n",
    "        # 각 클래스의 픽셀 수 계산\n",
    "        for i, class_label in enumerate(label):\n",
    "            # 현재 클래스의 픽셀 수 계산\n",
    "            class_pixel_count = np.sum(class_label == 1)\n",
    "            \n",
    "            # 클래스 픽셀 비율 계산\n",
    "            class_ratio = class_pixel_count / total_pixels\n",
    "            class_ratios[i] += class_ratio\n",
    "    \n",
    "    return [class_ratio/len(train_dataset) for class_ratio in class_ratios]"
   ]
  },
  {
   "cell_type": "markdown",
   "id": "22480ad8",
   "metadata": {},
   "source": [
    "# Setup Dataloader"
   ]
  },
  {
   "cell_type": "code",
   "execution_count": null,
   "id": "d5b43501",
   "metadata": {},
   "outputs": [],
   "source": [
    "train_loader = DataLoader(\n",
    "    dataset=train_dataset, \n",
    "    batch_size=BATCH_SIZE,\n",
    "    shuffle=True,\n",
    "    num_workers=8,\n",
    "    drop_last=True,\n",
    ")\n",
    "\n",
    "# 주의: validation data는 이미지 크기가 크기 때문에 `num_wokers`는 커지면 메모리 에러가 발생할 수 있습니다.\n",
    "valid_loader = DataLoader(\n",
    "    dataset=valid_dataset, \n",
    "    batch_size=8,\n",
    "    shuffle=False,\n",
    "    num_workers=0,\n",
    "    drop_last=False\n",
    ")"
   ]
  },
  {
   "cell_type": "markdown",
   "id": "85f36ce9",
   "metadata": {},
   "source": [
    "# Inference"
   ]
  },
  {
   "cell_type": "code",
   "execution_count": null,
   "id": "8b438c65",
   "metadata": {},
   "outputs": [],
   "source": [
    "model = torch.load(os.path.join(SAVED_DIR, \"fcn_resnet50_best_model.pt\"))"
   ]
  },
  {
   "cell_type": "code",
   "execution_count": null,
   "id": "da6dd353",
   "metadata": {},
   "outputs": [],
   "source": [
    "# 테스트 데이터 경로를 입력하세요\n",
    "\n",
    "IMAGE_ROOT = \"test/DCM\""
   ]
  },
  {
   "cell_type": "code",
   "execution_count": null,
   "id": "463d5c19",
   "metadata": {},
   "outputs": [],
   "source": [
    "pngs = {\n",
    "    os.path.relpath(os.path.join(root, fname), start=IMAGE_ROOT)\n",
    "    for root, _dirs, files in os.walk(IMAGE_ROOT)\n",
    "    for fname in files\n",
    "    if os.path.splitext(fname)[1].lower() == \".png\"\n",
    "}"
   ]
  },
  {
   "cell_type": "code",
   "execution_count": null,
   "id": "3b2794ea",
   "metadata": {},
   "outputs": [],
   "source": [
    "# mask map으로 나오는 인퍼런스 결과를 RLE로 인코딩 합니다.\n",
    "\n",
    "def encode_mask_to_rle(mask):\n",
    "    '''\n",
    "    mask: numpy array binary mask \n",
    "    1 - mask \n",
    "    0 - background\n",
    "    Returns encoded run length \n",
    "    '''\n",
    "    pixels = mask.flatten()\n",
    "    pixels = np.concatenate([[0], pixels, [0]])\n",
    "    runs = np.where(pixels[1:] != pixels[:-1])[0] + 1\n",
    "    runs[1::2] -= runs[::2]\n",
    "    return ' '.join(str(x) for x in runs)"
   ]
  },
  {
   "cell_type": "code",
   "execution_count": null,
   "id": "1db55005",
   "metadata": {},
   "outputs": [],
   "source": [
    "# RLE로 인코딩된 결과를 mask map으로 복원합니다.\n",
    "\n",
    "def decode_rle_to_mask(rle, height, width):\n",
    "    s = rle.split()\n",
    "    starts, lengths = [np.asarray(x, dtype=int) for x in (s[0:][::2], s[1:][::2])]\n",
    "    starts -= 1\n",
    "    ends = starts + lengths\n",
    "    img = np.zeros(height * width, dtype=np.uint8)\n",
    "    \n",
    "    for lo, hi in zip(starts, ends):\n",
    "        img[lo:hi] = 1\n",
    "    \n",
    "    return img.reshape(height, width)"
   ]
  },
  {
   "cell_type": "code",
   "execution_count": null,
   "id": "8e98506f",
   "metadata": {},
   "outputs": [],
   "source": [
    "class XRayInferenceDataset(Dataset):\n",
    "    def __init__(self, transforms=None):\n",
    "        _filenames = pngs\n",
    "        _filenames = np.array(sorted(_filenames))\n",
    "        \n",
    "        self.filenames = _filenames\n",
    "        self.transforms = transforms\n",
    "    \n",
    "    def __len__(self):\n",
    "        return len(self.filenames)\n",
    "    \n",
    "    def __getitem__(self, item):\n",
    "        image_name = self.filenames[item]\n",
    "        image_path = os.path.join(IMAGE_ROOT, image_name)\n",
    "        \n",
    "        image = cv2.imread(image_path)\n",
    "        image = image / 255.\n",
    "        \n",
    "        if self.transforms is not None:\n",
    "            inputs = {\"image\": image}\n",
    "            result = self.transforms(**inputs)\n",
    "            image = result[\"image\"]\n",
    "\n",
    "        # to tenser will be done later\n",
    "        image = image.transpose(2, 0, 1)  \n",
    "        \n",
    "        image = torch.from_numpy(image).float()\n",
    "            \n",
    "        return image, image_name"
   ]
  },
  {
   "cell_type": "code",
   "execution_count": null,
   "id": "112a73a3",
   "metadata": {},
   "outputs": [],
   "source": [
    "def test(model, data_loader, thr=0.5):\n",
    "    model = model.cuda()\n",
    "    model.eval()\n",
    "\n",
    "    rles = []\n",
    "    filename_and_class = []\n",
    "    with torch.no_grad():\n",
    "        n_class = len(CLASSES)\n",
    "\n",
    "        for step, (images, image_names) in tqdm(enumerate(data_loader), total=len(data_loader)):\n",
    "            images = images.cuda()    \n",
    "            outputs = model(images)['out']\n",
    "            \n",
    "            outputs = F.interpolate(outputs, size=(2048, 2048), mode=\"bilinear\")\n",
    "            outputs = torch.sigmoid(outputs)\n",
    "            outputs = (outputs > thr).detach().cpu().numpy()\n",
    "            \n",
    "            for output, image_name in zip(outputs, image_names):\n",
    "                for c, segm in enumerate(output):\n",
    "                    rle = encode_mask_to_rle(segm)\n",
    "                    rles.append(rle)\n",
    "                    filename_and_class.append(f\"{IND2CLASS[c]}_{image_name}\")\n",
    "                    \n",
    "    return rles, filename_and_class"
   ]
  },
  {
   "cell_type": "code",
   "execution_count": null,
   "id": "8011f0cd",
   "metadata": {},
   "outputs": [],
   "source": [
    "tf = A.Resize(512, 512)"
   ]
  },
  {
   "cell_type": "code",
   "execution_count": null,
   "id": "bcb091af",
   "metadata": {},
   "outputs": [],
   "source": [
    "test_dataset = XRayInferenceDataset(transforms=tf)"
   ]
  },
  {
   "cell_type": "code",
   "execution_count": null,
   "id": "62aff8c2",
   "metadata": {},
   "outputs": [],
   "source": [
    "test_loader = DataLoader(\n",
    "    dataset=test_dataset, \n",
    "    batch_size=2,\n",
    "    shuffle=False,\n",
    "    num_workers=2,\n",
    "    drop_last=False\n",
    ")"
   ]
  },
  {
   "cell_type": "code",
   "execution_count": null,
   "id": "fa7c963b",
   "metadata": {},
   "outputs": [],
   "source": [
    "rles, filename_and_class = test(model, test_loader)"
   ]
  },
  {
   "cell_type": "markdown",
   "id": "28e9e8a2",
   "metadata": {},
   "source": [
    "# Result Visualization"
   ]
  },
  {
   "cell_type": "code",
   "execution_count": null,
   "id": "eeedc485",
   "metadata": {},
   "outputs": [],
   "source": [
    "filename_and_class[0]"
   ]
  },
  {
   "cell_type": "code",
   "execution_count": null,
   "id": "faa6b4a2",
   "metadata": {},
   "outputs": [],
   "source": [
    "image = cv2.imread(os.path.join(IMAGE_ROOT, filename_and_class[0].split(\"_\")[1]))\n",
    "preds = []\n",
    "for rle in rles[:len(CLASSES)]:\n",
    "    pred = decode_rle_to_mask(rle, height=2048, width=2048)\n",
    "    preds.append(pred)\n",
    "\n",
    "preds = np.stack(preds, 0)"
   ]
  },
  {
   "cell_type": "code",
   "execution_count": null,
   "id": "679f5401",
   "metadata": {},
   "outputs": [],
   "source": [
    "fig, ax = plt.subplots(1, 2, figsize=(24, 12))\n",
    "ax[0].imshow(image)    # remove channel dimension\n",
    "ax[1].imshow(label2rgb(preds))\n",
    "\n",
    "plt.show()"
   ]
  }
 ],
 "metadata": {
  "kernelspec": {
   "display_name": "deep_learning",
   "language": "python",
   "name": "python3"
  },
  "language_info": {
   "codemirror_mode": {
    "name": "ipython",
    "version": 3
   },
   "file_extension": ".py",
   "mimetype": "text/x-python",
   "name": "python",
   "nbconvert_exporter": "python",
   "pygments_lexer": "ipython3",
   "version": "3.9.20"
  }
 },
 "nbformat": 4,
 "nbformat_minor": 5
}
